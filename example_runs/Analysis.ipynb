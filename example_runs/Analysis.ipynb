{
  "nbformat": 4,
  "nbformat_minor": 0,
  "metadata": {
    "colab": {
      "name": "Analysis.ipynb",
      "provenance": [],
      "collapsed_sections": [],
      "mount_file_id": "1P_oXtWGOSb4tFR4yT17R0QwhMGfVt6kV",
      "authorship_tag": "ABX9TyNKo801/LGhQvG1OEh9pNrF",
      "include_colab_link": true
    },
    "kernelspec": {
      "name": "python3",
      "display_name": "Python 3"
    },
    "language_info": {
      "name": "python"
    },
    "widgets": {
      "application/vnd.jupyter.widget-state+json": {
        "4a12d49d45904d258d01a76db9bdd81f": {
          "model_module": "@jupyter-widgets/controls",
          "model_name": "HBoxModel",
          "model_module_version": "1.5.0",
          "state": {
            "_view_name": "HBoxView",
            "_dom_classes": [],
            "_model_name": "HBoxModel",
            "_view_module": "@jupyter-widgets/controls",
            "_model_module_version": "1.5.0",
            "_view_count": null,
            "_view_module_version": "1.5.0",
            "box_style": "",
            "layout": "IPY_MODEL_02bba14649034677953f1f15dcbd1940",
            "_model_module": "@jupyter-widgets/controls",
            "children": [
              "IPY_MODEL_909caf92b6f9490fa2a19b18273edca1",
              "IPY_MODEL_05c4415f757a42d986d455feffd910a9",
              "IPY_MODEL_107da47ef2c1451ba9a6c55c6052068c"
            ]
          }
        },
        "02bba14649034677953f1f15dcbd1940": {
          "model_module": "@jupyter-widgets/base",
          "model_name": "LayoutModel",
          "model_module_version": "1.2.0",
          "state": {
            "_view_name": "LayoutView",
            "grid_template_rows": null,
            "right": null,
            "justify_content": null,
            "_view_module": "@jupyter-widgets/base",
            "overflow": null,
            "_model_module_version": "1.2.0",
            "_view_count": null,
            "flex_flow": null,
            "width": null,
            "min_width": null,
            "border": null,
            "align_items": null,
            "bottom": null,
            "_model_module": "@jupyter-widgets/base",
            "top": null,
            "grid_column": null,
            "overflow_y": null,
            "overflow_x": null,
            "grid_auto_flow": null,
            "grid_area": null,
            "grid_template_columns": null,
            "flex": null,
            "_model_name": "LayoutModel",
            "justify_items": null,
            "grid_row": null,
            "max_height": null,
            "align_content": null,
            "visibility": null,
            "align_self": null,
            "height": null,
            "min_height": null,
            "padding": null,
            "grid_auto_rows": null,
            "grid_gap": null,
            "max_width": null,
            "order": null,
            "_view_module_version": "1.2.0",
            "grid_template_areas": null,
            "object_position": null,
            "object_fit": null,
            "grid_auto_columns": null,
            "margin": null,
            "display": null,
            "left": null
          }
        },
        "909caf92b6f9490fa2a19b18273edca1": {
          "model_module": "@jupyter-widgets/controls",
          "model_name": "HTMLModel",
          "model_module_version": "1.5.0",
          "state": {
            "_view_name": "HTMLView",
            "style": "IPY_MODEL_9fd46084e38347758252c8a85d8d9ca4",
            "_dom_classes": [],
            "description": "",
            "_model_name": "HTMLModel",
            "placeholder": "​",
            "_view_module": "@jupyter-widgets/controls",
            "_model_module_version": "1.5.0",
            "value": "100%",
            "_view_count": null,
            "_view_module_version": "1.5.0",
            "description_tooltip": null,
            "_model_module": "@jupyter-widgets/controls",
            "layout": "IPY_MODEL_4652d692f1904ac18a2358d3e5a7988b"
          }
        },
        "05c4415f757a42d986d455feffd910a9": {
          "model_module": "@jupyter-widgets/controls",
          "model_name": "FloatProgressModel",
          "model_module_version": "1.5.0",
          "state": {
            "_view_name": "ProgressView",
            "style": "IPY_MODEL_5dbe92dc794640c0bff31546fff928a3",
            "_dom_classes": [],
            "description": "",
            "_model_name": "FloatProgressModel",
            "bar_style": "success",
            "max": 45,
            "_view_module": "@jupyter-widgets/controls",
            "_model_module_version": "1.5.0",
            "value": 45,
            "_view_count": null,
            "_view_module_version": "1.5.0",
            "orientation": "horizontal",
            "min": 0,
            "description_tooltip": null,
            "_model_module": "@jupyter-widgets/controls",
            "layout": "IPY_MODEL_501665ee5f99493dac0aa23a6ef0a5f4"
          }
        },
        "107da47ef2c1451ba9a6c55c6052068c": {
          "model_module": "@jupyter-widgets/controls",
          "model_name": "HTMLModel",
          "model_module_version": "1.5.0",
          "state": {
            "_view_name": "HTMLView",
            "style": "IPY_MODEL_8d53d112793d4e50bdbe09bd5fadf3b6",
            "_dom_classes": [],
            "description": "",
            "_model_name": "HTMLModel",
            "placeholder": "​",
            "_view_module": "@jupyter-widgets/controls",
            "_model_module_version": "1.5.0",
            "value": " 45/45 [00:00&lt;00:00, 78.73it/s]",
            "_view_count": null,
            "_view_module_version": "1.5.0",
            "description_tooltip": null,
            "_model_module": "@jupyter-widgets/controls",
            "layout": "IPY_MODEL_3d488436b0bf46388450e941212370ef"
          }
        },
        "9fd46084e38347758252c8a85d8d9ca4": {
          "model_module": "@jupyter-widgets/controls",
          "model_name": "DescriptionStyleModel",
          "model_module_version": "1.5.0",
          "state": {
            "_view_name": "StyleView",
            "_model_name": "DescriptionStyleModel",
            "description_width": "",
            "_view_module": "@jupyter-widgets/base",
            "_model_module_version": "1.5.0",
            "_view_count": null,
            "_view_module_version": "1.2.0",
            "_model_module": "@jupyter-widgets/controls"
          }
        },
        "4652d692f1904ac18a2358d3e5a7988b": {
          "model_module": "@jupyter-widgets/base",
          "model_name": "LayoutModel",
          "model_module_version": "1.2.0",
          "state": {
            "_view_name": "LayoutView",
            "grid_template_rows": null,
            "right": null,
            "justify_content": null,
            "_view_module": "@jupyter-widgets/base",
            "overflow": null,
            "_model_module_version": "1.2.0",
            "_view_count": null,
            "flex_flow": null,
            "width": null,
            "min_width": null,
            "border": null,
            "align_items": null,
            "bottom": null,
            "_model_module": "@jupyter-widgets/base",
            "top": null,
            "grid_column": null,
            "overflow_y": null,
            "overflow_x": null,
            "grid_auto_flow": null,
            "grid_area": null,
            "grid_template_columns": null,
            "flex": null,
            "_model_name": "LayoutModel",
            "justify_items": null,
            "grid_row": null,
            "max_height": null,
            "align_content": null,
            "visibility": null,
            "align_self": null,
            "height": null,
            "min_height": null,
            "padding": null,
            "grid_auto_rows": null,
            "grid_gap": null,
            "max_width": null,
            "order": null,
            "_view_module_version": "1.2.0",
            "grid_template_areas": null,
            "object_position": null,
            "object_fit": null,
            "grid_auto_columns": null,
            "margin": null,
            "display": null,
            "left": null
          }
        },
        "5dbe92dc794640c0bff31546fff928a3": {
          "model_module": "@jupyter-widgets/controls",
          "model_name": "ProgressStyleModel",
          "model_module_version": "1.5.0",
          "state": {
            "_view_name": "StyleView",
            "_model_name": "ProgressStyleModel",
            "description_width": "",
            "_view_module": "@jupyter-widgets/base",
            "_model_module_version": "1.5.0",
            "_view_count": null,
            "_view_module_version": "1.2.0",
            "bar_color": null,
            "_model_module": "@jupyter-widgets/controls"
          }
        },
        "501665ee5f99493dac0aa23a6ef0a5f4": {
          "model_module": "@jupyter-widgets/base",
          "model_name": "LayoutModel",
          "model_module_version": "1.2.0",
          "state": {
            "_view_name": "LayoutView",
            "grid_template_rows": null,
            "right": null,
            "justify_content": null,
            "_view_module": "@jupyter-widgets/base",
            "overflow": null,
            "_model_module_version": "1.2.0",
            "_view_count": null,
            "flex_flow": null,
            "width": null,
            "min_width": null,
            "border": null,
            "align_items": null,
            "bottom": null,
            "_model_module": "@jupyter-widgets/base",
            "top": null,
            "grid_column": null,
            "overflow_y": null,
            "overflow_x": null,
            "grid_auto_flow": null,
            "grid_area": null,
            "grid_template_columns": null,
            "flex": null,
            "_model_name": "LayoutModel",
            "justify_items": null,
            "grid_row": null,
            "max_height": null,
            "align_content": null,
            "visibility": null,
            "align_self": null,
            "height": null,
            "min_height": null,
            "padding": null,
            "grid_auto_rows": null,
            "grid_gap": null,
            "max_width": null,
            "order": null,
            "_view_module_version": "1.2.0",
            "grid_template_areas": null,
            "object_position": null,
            "object_fit": null,
            "grid_auto_columns": null,
            "margin": null,
            "display": null,
            "left": null
          }
        },
        "8d53d112793d4e50bdbe09bd5fadf3b6": {
          "model_module": "@jupyter-widgets/controls",
          "model_name": "DescriptionStyleModel",
          "model_module_version": "1.5.0",
          "state": {
            "_view_name": "StyleView",
            "_model_name": "DescriptionStyleModel",
            "description_width": "",
            "_view_module": "@jupyter-widgets/base",
            "_model_module_version": "1.5.0",
            "_view_count": null,
            "_view_module_version": "1.2.0",
            "_model_module": "@jupyter-widgets/controls"
          }
        },
        "3d488436b0bf46388450e941212370ef": {
          "model_module": "@jupyter-widgets/base",
          "model_name": "LayoutModel",
          "model_module_version": "1.2.0",
          "state": {
            "_view_name": "LayoutView",
            "grid_template_rows": null,
            "right": null,
            "justify_content": null,
            "_view_module": "@jupyter-widgets/base",
            "overflow": null,
            "_model_module_version": "1.2.0",
            "_view_count": null,
            "flex_flow": null,
            "width": null,
            "min_width": null,
            "border": null,
            "align_items": null,
            "bottom": null,
            "_model_module": "@jupyter-widgets/base",
            "top": null,
            "grid_column": null,
            "overflow_y": null,
            "overflow_x": null,
            "grid_auto_flow": null,
            "grid_area": null,
            "grid_template_columns": null,
            "flex": null,
            "_model_name": "LayoutModel",
            "justify_items": null,
            "grid_row": null,
            "max_height": null,
            "align_content": null,
            "visibility": null,
            "align_self": null,
            "height": null,
            "min_height": null,
            "padding": null,
            "grid_auto_rows": null,
            "grid_gap": null,
            "max_width": null,
            "order": null,
            "_view_module_version": "1.2.0",
            "grid_template_areas": null,
            "object_position": null,
            "object_fit": null,
            "grid_auto_columns": null,
            "margin": null,
            "display": null,
            "left": null
          }
        }
      }
    }
  },
  "cells": [
    {
      "cell_type": "markdown",
      "metadata": {
        "id": "view-in-github",
        "colab_type": "text"
      },
      "source": [
        "<a href=\"https://colab.research.google.com/github/mesahwi/Birdsong_Continuity/blob/main/example_runs/Analysis.ipynb\" target=\"_parent\"><img src=\"https://colab.research.google.com/assets/colab-badge.svg\" alt=\"Open In Colab\"/></a>"
      ]
    },
    {
      "cell_type": "markdown",
      "metadata": {
        "id": "HUo8Qttbdtr4"
      },
      "source": [
        "#Importing Code and data"
      ]
    },
    {
      "cell_type": "code",
      "metadata": {
        "id": "aZ1VRZB9YYRA",
        "colab": {
          "base_uri": "https://localhost:8080/"
        },
        "outputId": "819341c4-0753-41ef-cb57-38945fe0a6d4"
      },
      "source": [
        "!git clone https://github.com/mesahwi/Birdsong_Continuity.git"
      ],
      "execution_count": 1,
      "outputs": [
        {
          "output_type": "stream",
          "name": "stdout",
          "text": [
            "Cloning into 'Birdsong_Continuity'...\n",
            "remote: Enumerating objects: 140, done.\u001b[K\n",
            "remote: Counting objects: 100% (140/140), done.\u001b[K\n",
            "remote: Compressing objects: 100% (135/135), done.\u001b[K\n",
            "remote: Total 140 (delta 68), reused 0 (delta 0), pack-reused 0\u001b[K\n",
            "Receiving objects: 100% (140/140), 218.35 KiB | 19.85 MiB/s, done.\n",
            "Resolving deltas: 100% (68/68), done.\n"
          ]
        }
      ]
    },
    {
      "cell_type": "code",
      "metadata": {
        "id": "xm05QJaLZxCG",
        "colab": {
          "base_uri": "https://localhost:8080/"
        },
        "outputId": "eca446e3-c7e4-4cc9-ebc9-df848a6e0851"
      },
      "source": [
        "%cd Birdsong_Continuity"
      ],
      "execution_count": 2,
      "outputs": [
        {
          "output_type": "stream",
          "name": "stdout",
          "text": [
            "/content/Birdsong_Continuity\n"
          ]
        }
      ]
    },
    {
      "cell_type": "code",
      "metadata": {
        "id": "BKa8p3lW32qY",
        "colab": {
          "base_uri": "https://localhost:8080/"
        },
        "outputId": "df38a328-402f-48a1-9e37-2ded5cc01671"
      },
      "source": [
        "!bash load_results.sh"
      ],
      "execution_count": 3,
      "outputs": [
        {
          "output_type": "stream",
          "name": "stdout",
          "text": [
            "--2021-11-11 12:30:40--  https://docs.google.com/uc?export=download&confirm=&id=18YIPI5B-tQ5_Ded82eVBuSKZe8xmpnN3\n",
            "Resolving docs.google.com (docs.google.com)... 172.217.1.206, 2607:f8b0:4004:814::200e\n",
            "Connecting to docs.google.com (docs.google.com)|172.217.1.206|:443... connected.\n",
            "HTTP request sent, awaiting response... 302 Moved Temporarily\n",
            "Location: https://doc-0g-9o-docs.googleusercontent.com/docs/securesc/c17titphnbla4g40sbkbi9smfsj9ckpd/qfirdhk3cr21h9k8903k8qa38vvtb95s/1636633800000/15844907332939629602/15046752821311240377Z/18YIPI5B-tQ5_Ded82eVBuSKZe8xmpnN3?e=download [following]\n",
            "--2021-11-11 12:30:41--  https://doc-0g-9o-docs.googleusercontent.com/docs/securesc/c17titphnbla4g40sbkbi9smfsj9ckpd/qfirdhk3cr21h9k8903k8qa38vvtb95s/1636633800000/15844907332939629602/15046752821311240377Z/18YIPI5B-tQ5_Ded82eVBuSKZe8xmpnN3?e=download\n",
            "Resolving doc-0g-9o-docs.googleusercontent.com (doc-0g-9o-docs.googleusercontent.com)... 172.217.15.97, 2607:f8b0:4004:811::2001\n",
            "Connecting to doc-0g-9o-docs.googleusercontent.com (doc-0g-9o-docs.googleusercontent.com)|172.217.15.97|:443... connected.\n",
            "HTTP request sent, awaiting response... 302 Found\n",
            "Location: https://docs.google.com/nonceSigner?nonce=q5mmts0nbmgco&continue=https://doc-0g-9o-docs.googleusercontent.com/docs/securesc/c17titphnbla4g40sbkbi9smfsj9ckpd/qfirdhk3cr21h9k8903k8qa38vvtb95s/1636633800000/15844907332939629602/15046752821311240377Z/18YIPI5B-tQ5_Ded82eVBuSKZe8xmpnN3?e%3Ddownload&hash=u991rj39ueo44hvqiqrrr5ptv2p7mgfb [following]\n",
            "--2021-11-11 12:30:41--  https://docs.google.com/nonceSigner?nonce=q5mmts0nbmgco&continue=https://doc-0g-9o-docs.googleusercontent.com/docs/securesc/c17titphnbla4g40sbkbi9smfsj9ckpd/qfirdhk3cr21h9k8903k8qa38vvtb95s/1636633800000/15844907332939629602/15046752821311240377Z/18YIPI5B-tQ5_Ded82eVBuSKZe8xmpnN3?e%3Ddownload&hash=u991rj39ueo44hvqiqrrr5ptv2p7mgfb\n",
            "Connecting to docs.google.com (docs.google.com)|172.217.1.206|:443... connected.\n",
            "HTTP request sent, awaiting response... 302 Found\n",
            "Location: https://doc-0g-9o-docs.googleusercontent.com/docs/securesc/c17titphnbla4g40sbkbi9smfsj9ckpd/qfirdhk3cr21h9k8903k8qa38vvtb95s/1636633800000/15844907332939629602/15046752821311240377Z/18YIPI5B-tQ5_Ded82eVBuSKZe8xmpnN3?e=download&nonce=q5mmts0nbmgco&user=15046752821311240377Z&hash=nhl1i968ku85j1ftsk3g0ig58eaukg8a [following]\n",
            "--2021-11-11 12:30:41--  https://doc-0g-9o-docs.googleusercontent.com/docs/securesc/c17titphnbla4g40sbkbi9smfsj9ckpd/qfirdhk3cr21h9k8903k8qa38vvtb95s/1636633800000/15844907332939629602/15046752821311240377Z/18YIPI5B-tQ5_Ded82eVBuSKZe8xmpnN3?e=download&nonce=q5mmts0nbmgco&user=15046752821311240377Z&hash=nhl1i968ku85j1ftsk3g0ig58eaukg8a\n",
            "Connecting to doc-0g-9o-docs.googleusercontent.com (doc-0g-9o-docs.googleusercontent.com)|172.217.15.97|:443... connected.\n",
            "HTTP request sent, awaiting response... 200 OK\n",
            "Length: 9085404 (8.7M) [application/zip]\n",
            "Saving to: ‘KNN_results.zip’\n",
            "\n",
            "KNN_results.zip     100%[===================>]   8.66M  31.3MB/s    in 0.3s    \n",
            "\n",
            "2021-11-11 12:30:42 (31.3 MB/s) - ‘KNN_results.zip’ saved [9085404/9085404]\n",
            "\n",
            "Archive:  KNN_results.zip\n",
            "  inflating: KNN_results/naive_knn.csv  \n",
            "  inflating: KNN_results/segments/N[146.0, 206.0]msS[176.0, 236.0]ms.csv  \n",
            "  inflating: KNN_results/segments/N[266.0, 326.0]msS[296.0, 356.0]ms.csv  \n",
            "  inflating: KNN_results/segments/N[290.0, 350.0]msS[320.0, 380.0]ms.csv  \n",
            "  inflating: KNN_results/segments/N[26.0, 86.0]msS[56.0, 116.0]ms.csv  \n",
            "  inflating: KNN_results/segments/N[162.0, 222.0]msS[192.0, 252.0]ms.csv  \n",
            "  inflating: KNN_results/segments/N[298.0, 358.0]msS[328.0, 388.0]ms.csv  \n",
            "  inflating: KNN_results/segments/N[282.0, 342.0]msS[312.0, 372.0]ms.csv  \n",
            "  inflating: KNN_results/segments/N[178.0, 238.0]msS[208.0, 268.0]ms.csv  \n",
            "  inflating: KNN_results/segments/N[50.0, 110.0]msS[80.0, 140.0]ms.csv  \n",
            "  inflating: KNN_results/segments/N[18.0, 78.0]msS[48.0, 108.0]ms.csv  \n",
            "  inflating: KNN_results/segments/N[170.0, 230.0]msS[200.0, 260.0]ms.csv  \n",
            "  inflating: KNN_results/segments/N[306.0, 366.0]msS[336.0, 396.0]ms.csv  \n",
            "  inflating: KNN_results/segments/N[194.0, 254.0]msS[224.0, 284.0]ms.csv  \n",
            "  inflating: KNN_results/segments/N[186.0, 246.0]msS[216.0, 276.0]ms.csv  \n",
            "  inflating: KNN_results/segments/N[34.0, 94.0]msS[64.0, 124.0]ms.csv  \n",
            "  inflating: KNN_results/segments/N[74.0, 134.0]msS[104.0, 164.0]ms.csv  \n",
            "  inflating: KNN_results/segments/N[154.0, 214.0]msS[184.0, 244.0]ms.csv  \n",
            "  inflating: KNN_results/segments/N[58.0, 118.0]msS[88.0, 148.0]ms.csv  \n",
            "  inflating: KNN_results/segments/N[42.0, 102.0]msS[72.0, 132.0]ms.csv  \n",
            "  inflating: KNN_results/segments/N[322.0, 382.0]msS[352.0, 412.0]ms.csv  \n",
            "  inflating: KNN_results/segments/N[274.0, 334.0]msS[304.0, 364.0]ms.csv  \n",
            "  inflating: KNN_results/segments/N[314.0, 374.0]msS[344.0, 404.0]ms.csv  \n",
            "  inflating: KNN_results/segments/N[202.0, 262.0]msS[232.0, 292.0]ms.csv  \n",
            "  inflating: KNN_results/segments/N[82.0, 142.0]msS[112.0, 172.0]ms.csv  \n",
            "  inflating: KNN_results/segments/N[66.0, 126.0]msS[96.0, 156.0]ms.csv  \n",
            "  inflating: KNN_results/segments/N[242.0, 302.0]msS[272.0, 332.0]ms.csv  \n",
            "  inflating: KNN_results/segments/N[250.0, 310.0]msS[280.0, 340.0]ms.csv  \n",
            "  inflating: KNN_results/segments/N[218.0, 278.0]msS[248.0, 308.0]ms.csv  \n",
            "  inflating: KNN_results/segments/N[-22.0, 38.0]msS[8.0, 68.0]ms.csv  \n",
            "  inflating: KNN_results/segments/N[-14.0, 46.0]msS[16.0, 76.0]ms.csv  \n",
            "  inflating: KNN_results/segments/N[2.0, 62.0]msS[32.0, 92.0]ms.csv  \n",
            "  inflating: KNN_results/segments/N[98.0, 158.0]msS[128.0, 188.0]ms.csv  \n",
            "  inflating: KNN_results/segments/N[138.0, 198.0]msS[168.0, 228.0]ms.csv  \n",
            "  inflating: KNN_results/segments/N[130.0, 190.0]msS[160.0, 220.0]ms.csv  \n",
            "  inflating: KNN_results/segments/N[10.0, 70.0]msS[40.0, 100.0]ms.csv  \n",
            "  inflating: KNN_results/segments/N[-30.0, 30.0]msS[0.0, 60.0]ms.csv  \n",
            "  inflating: KNN_results/segments/N[114.0, 174.0]msS[144.0, 204.0]ms.csv  \n",
            "  inflating: KNN_results/segments/N[210.0, 270.0]msS[240.0, 300.0]ms.csv  \n",
            "  inflating: KNN_results/segments/N[226.0, 286.0]msS[256.0, 316.0]ms.csv  \n",
            "  inflating: KNN_results/segments/N[-6.0, 54.0]msS[24.0, 84.0]ms.csv  \n",
            "  inflating: KNN_results/segments/N[234.0, 294.0]msS[264.0, 324.0]ms.csv  \n",
            "  inflating: KNN_results/segments/N[122.0, 182.0]msS[152.0, 212.0]ms.csv  \n",
            "  inflating: KNN_results/segments/N[90.0, 150.0]msS[120.0, 180.0]ms.csv  \n",
            "  inflating: KNN_results/segments/N[106.0, 166.0]msS[136.0, 196.0]ms.csv  \n",
            "  inflating: KNN_results/segments/N[258.0, 318.0]msS[288.0, 348.0]ms.csv  \n"
          ]
        }
      ]
    },
    {
      "cell_type": "code",
      "metadata": {
        "id": "5_ILfoxA2MoB"
      },
      "source": [
        "!pip install pingouin &> /dev/null"
      ],
      "execution_count": 4,
      "outputs": []
    },
    {
      "cell_type": "code",
      "metadata": {
        "id": "0GiYlReS2c8-"
      },
      "source": [
        "import numpy as np\n",
        "import pandas as pd\n",
        "import os\n",
        "from glob import glob\n",
        "\n",
        "from tqdm.notebook import tqdm\n",
        "import matplotlib.pyplot as plt\n",
        "import seaborn as sns\n",
        "\n",
        "import pingouin as pg"
      ],
      "execution_count": 5,
      "outputs": []
    },
    {
      "cell_type": "code",
      "metadata": {
        "id": "fkm8JCRT2edV"
      },
      "source": [
        "WHOLE_DIR = 'KNN_results/'\n",
        "SEG_DIR = WHOLE_DIR+'segments/'"
      ],
      "execution_count": 6,
      "outputs": []
    },
    {
      "cell_type": "markdown",
      "metadata": {
        "id": "QUNUeG6C9_Nm"
      },
      "source": [
        "# Whole syllable analysis"
      ]
    },
    {
      "cell_type": "code",
      "metadata": {
        "id": "-aTH_kfJKO8-"
      },
      "source": [
        "whole = glob(WHOLE_DIR+'*.csv')\n",
        "df_whole = pd.read_csv(whole[0], index_col=0)"
      ],
      "execution_count": 7,
      "outputs": []
    },
    {
      "cell_type": "code",
      "metadata": {
        "colab": {
          "base_uri": "https://localhost:8080/",
          "height": 80
        },
        "id": "VwfKphL9KSwk",
        "outputId": "cb06075b-eca2-4b68-8628-0808684c8b38"
      },
      "source": [
        "whole_wilcoxon = pg.wilcoxon(df_whole['CNS_Rmins'], df_whole['RNS_Ravgs'], alternative='less')\n",
        "whole_wilcoxon"
      ],
      "execution_count": 8,
      "outputs": [
        {
          "output_type": "execute_result",
          "data": {
            "text/html": [
              "<div>\n",
              "<style scoped>\n",
              "    .dataframe tbody tr th:only-of-type {\n",
              "        vertical-align: middle;\n",
              "    }\n",
              "\n",
              "    .dataframe tbody tr th {\n",
              "        vertical-align: top;\n",
              "    }\n",
              "\n",
              "    .dataframe thead th {\n",
              "        text-align: right;\n",
              "    }\n",
              "</style>\n",
              "<table border=\"1\" class=\"dataframe\">\n",
              "  <thead>\n",
              "    <tr style=\"text-align: right;\">\n",
              "      <th></th>\n",
              "      <th>W-val</th>\n",
              "      <th>alternative</th>\n",
              "      <th>p-val</th>\n",
              "      <th>RBC</th>\n",
              "      <th>CLES</th>\n",
              "    </tr>\n",
              "  </thead>\n",
              "  <tbody>\n",
              "    <tr>\n",
              "      <th>Wilcoxon</th>\n",
              "      <td>16021.0</td>\n",
              "      <td>less</td>\n",
              "      <td>2.577802e-63</td>\n",
              "      <td>-0.80651</td>\n",
              "      <td>0.737431</td>\n",
              "    </tr>\n",
              "  </tbody>\n",
              "</table>\n",
              "</div>"
            ],
            "text/plain": [
              "            W-val alternative         p-val      RBC      CLES\n",
              "Wilcoxon  16021.0        less  2.577802e-63 -0.80651  0.737431"
            ]
          },
          "metadata": {},
          "execution_count": 8
        }
      ]
    },
    {
      "cell_type": "code",
      "metadata": {
        "colab": {
          "base_uri": "https://localhost:8080/",
          "height": 265
        },
        "id": "jANWYHbL2try",
        "outputId": "5bc3f9e7-9c2c-4c89-9c9b-3cc7d652a2af"
      },
      "source": [
        "fig, ax = plt.subplots(1,1)\n",
        "ax.boxplot([df_whole['CNS_Rmins'], df_whole['RNS_Ravgs']], sym=\"b*\")\n",
        "\n",
        "ax.set_ylabel('Average Distance')\n",
        "plt.xticks([1, 2], \n",
        "           ['Rmin', 'Ravg']);"
      ],
      "execution_count": 9,
      "outputs": [
        {
          "output_type": "display_data",
          "data": {
            "image/png": "[encoded data removed]",
            "text/plain": [
              "<Figure size 432x288 with 1 Axes>"
            ]
          },
          "metadata": {
            "needs_background": "light"
          }
        }
      ]
    },
    {
      "cell_type": "code",
      "metadata": {
        "colab": {
          "base_uri": "https://localhost:8080/",
          "height": 279
        },
        "id": "WsFDyIc2SbCC",
        "outputId": "dd99039b-2157-444f-ba39-363ab643e609"
      },
      "source": [
        "N = len(df_whole['CNS_Rmins'])\n",
        "\n",
        "fig, ax = plt.subplots(1,1)\n",
        "sns.kdeplot(df_whole['CNS_Rmins'], ax=ax, label='Rmin')\n",
        "sns.kdeplot(df_whole['RNS_Ravgs'] , ax=ax, label='Ravg')\n",
        "\n",
        "ax.legend()\n",
        "\n",
        "ax.set_xlabel('Average Distance');"
      ],
      "execution_count": 10,
      "outputs": [
        {
          "output_type": "display_data",
          "data": {
            "image/png": "[encoded data removed]",
            "text/plain": [
              "<Figure size 432x288 with 1 Axes>"
            ]
          },
          "metadata": {
            "needs_background": "light"
          }
        }
      ]
    },
    {
      "cell_type": "markdown",
      "metadata": {
        "id": "y-E8JG0kKPD5"
      },
      "source": [
        "# Segment-wise analysis"
      ]
    },
    {
      "cell_type": "code",
      "metadata": {
        "id": "hNHF9Ov7CGVx"
      },
      "source": [
        "## sorted file names (by time)\n",
        "seg_file_names = glob(SEG_DIR+'*.csv')\n",
        "seg_file_names = sorted(seg_file_names, key=lambda x:float(x.split(']')[-2].split(',')[-1][1:].split(' ')[0]))"
      ],
      "execution_count": 11,
      "outputs": []
    },
    {
      "cell_type": "code",
      "metadata": {
        "colab": {
          "base_uri": "https://localhost:8080/",
          "height": 49,
          "referenced_widgets": [
            "4a12d49d45904d258d01a76db9bdd81f",
            "02bba14649034677953f1f15dcbd1940",
            "909caf92b6f9490fa2a19b18273edca1",
            "05c4415f757a42d986d455feffd910a9",
            "107da47ef2c1451ba9a6c55c6052068c",
            "9fd46084e38347758252c8a85d8d9ca4",
            "4652d692f1904ac18a2358d3e5a7988b",
            "5dbe92dc794640c0bff31546fff928a3",
            "501665ee5f99493dac0aa23a6ef0a5f4",
            "8d53d112793d4e50bdbe09bd5fadf3b6",
            "3d488436b0bf46388450e941212370ef"
          ]
        },
        "id": "zhSbqvwJCaJG",
        "outputId": "6e25c43d-b854-4141-bea5-852f8a0a0a62"
      },
      "source": [
        "df_list = []\n",
        "for filename in tqdm(seg_file_names):\n",
        "    df_list.append(pd.read_csv(filename, index_col=0))"
      ],
      "execution_count": 12,
      "outputs": [
        {
          "output_type": "display_data",
          "data": {
            "application/vnd.jupyter.widget-view+json": {
              "model_id": "4a12d49d45904d258d01a76db9bdd81f",
              "version_minor": 0,
              "version_major": 2
            },
            "text/plain": [
              "  0%|          | 0/45 [00:00<?, ?it/s]"
            ]
          },
          "metadata": {}
        }
      ]
    },
    {
      "cell_type": "code",
      "metadata": {
        "colab": {
          "base_uri": "https://localhost:8080/"
        },
        "id": "Jj7TinoVCaWY",
        "outputId": "7b9e974f-6692-4ed1-d81d-6dcd9d71348c"
      },
      "source": [
        "ws = []\n",
        "num_sigs = 0\n",
        "for i, df in enumerate(df_list):\n",
        "    w = pg.wilcoxon(df['CNS_Rmins'], df['RNS_Ravgs'], alternative='less')\n",
        "    ws.append(abs(w.RBC.values[0]))\n",
        "\n",
        "    if w[\"p-val\"].values[0] < 0.05:\n",
        "        sig = True\n",
        "        num_sigs += 1\n",
        "    else:\n",
        "        sig = False\n",
        "    print(i, f'RBC : {abs(w.RBC.values[0])}, Significance : {sig}')\n",
        "\n",
        "print('average RBC :', np.mean(ws), 'How many significant :', num_sigs)"
      ],
      "execution_count": 13,
      "outputs": [
        {
          "output_type": "stream",
          "name": "stdout",
          "text": [
            "0 RBC : 0.4378623188405797, Significance : True\n",
            "1 RBC : 0.4946739130434783, Significance : True\n",
            "2 RBC : 0.4998792270531401, Significance : True\n",
            "3 RBC : 0.40707729468599035, Significance : True\n",
            "4 RBC : 0.49847826086956526, Significance : True\n",
            "5 RBC : 0.4740217391304348, Significance : True\n",
            "6 RBC : 0.4979468599033816, Significance : True\n",
            "7 RBC : 0.4815217391304348, Significance : True\n",
            "8 RBC : 0.5755797101449276, Significance : True\n",
            "9 RBC : 0.5413647342995169, Significance : True\n",
            "10 RBC : 0.5627415458937197, Significance : True\n",
            "11 RBC : 0.5896497584541063, Significance : True\n",
            "12 RBC : 0.6065096618357488, Significance : True\n",
            "13 RBC : 0.6622101449275362, Significance : True\n",
            "14 RBC : 0.6330193236714976, Significance : True\n",
            "15 RBC : 0.5571256038647343, Significance : True\n",
            "16 RBC : 0.6202777777777777, Significance : True\n",
            "17 RBC : 0.7470652173913044, Significance : True\n",
            "18 RBC : 0.7858333333333334, Significance : True\n",
            "19 RBC : 0.8518115942028985, Significance : True\n",
            "20 RBC : 0.8565217391304347, Significance : True\n",
            "21 RBC : 0.8704106280193236, Significance : True\n",
            "22 RBC : 0.926268115942029, Significance : True\n",
            "23 RBC : 0.9140942028985508, Significance : True\n",
            "24 RBC : 0.8755072463768117, Significance : True\n",
            "25 RBC : 0.9046739130434782, Significance : True\n",
            "26 RBC : 0.8731884057971016, Significance : True\n",
            "27 RBC : 0.7767149758454106, Significance : True\n",
            "28 RBC : 0.768719806763285, Significance : True\n",
            "29 RBC : 0.722536231884058, Significance : True\n",
            "30 RBC : 0.7020772946859903, Significance : True\n",
            "31 RBC : 0.7235869565217392, Significance : True\n",
            "32 RBC : 0.7878743961352657, Significance : True\n",
            "33 RBC : 0.8191545893719807, Significance : True\n",
            "34 RBC : 0.8380193236714977, Significance : True\n",
            "35 RBC : 0.8424637681159419, Significance : True\n",
            "36 RBC : 0.8123429951690821, Significance : True\n",
            "37 RBC : 0.7535748792270531, Significance : True\n",
            "38 RBC : 0.7110024154589372, Significance : True\n",
            "39 RBC : 0.7442753623188405, Significance : True\n",
            "40 RBC : 0.6784903381642513, Significance : True\n",
            "41 RBC : 0.5871256038647343, Significance : True\n",
            "42 RBC : 0.6726690821256038, Significance : True\n",
            "43 RBC : 0.7337439613526571, Significance : True\n",
            "44 RBC : 0.6237801932367151, Significance : True\n",
            "average RBC : 0.6898548040794419 How many significant : 45\n"
          ]
        }
      ]
    },
    {
      "cell_type": "code",
      "metadata": {
        "colab": {
          "base_uri": "https://localhost:8080/",
          "height": 279
        },
        "id": "wiAYCv45LsdP",
        "outputId": "7b55b618-331d-42fd-9c3c-b7eb35a1eaf4"
      },
      "source": [
        "fig, ax = plt.subplots(1,1)\n",
        "ax.set_ylabel('Effect Size')\n",
        "ax.set_xlabel('Segment id')\n",
        "ax.hlines(y=abs(whole_wilcoxon.RBC), xmin=0, xmax=45, linestyles='dotted')\n",
        "ax.bar(x=np.arange(len(ws)), height=[abs(x) for x in ws])\n",
        "ax.annotate('segment 22', ha = 'center', va = 'bottom',  xy=(22,0.92), xytext=(10,0.90),\n",
        "            arrowprops = {'arrowstyle':\"->\",\n",
        "                            'connectionstyle':\"arc3\"});"
      ],
      "execution_count": 14,
      "outputs": [
        {
          "output_type": "display_data",
          "data": {
            "image/png": "[encoded data removed]",
            "text/plain": [
              "<Figure size 432x288 with 1 Axes>"
            ]
          },
          "metadata": {
            "needs_background": "light"
          }
        }
      ]
    },
    {
      "cell_type": "markdown",
      "metadata": {
        "id": "b-R98xgz2q_E"
      },
      "source": [
        "## Segment 22"
      ]
    },
    {
      "cell_type": "code",
      "metadata": {
        "colab": {
          "base_uri": "https://localhost:8080/",
          "height": 279
        },
        "id": "DjdmxzmFh1gu",
        "outputId": "696d1ae4-677e-4d78-83f8-be6e3bc27b0f"
      },
      "source": [
        "i = 22\n",
        "N = len(df['CNS_Rmins'])\n",
        "\n",
        "fig, ax = plt.subplots(1,1)\n",
        "sns.kdeplot(df_list[i]['CNS_Rmins'], ax=ax, label='Rmin')\n",
        "sns.kdeplot(df_list[i]['RNS_Ravgs'] , ax=ax, label='Ravg')\n",
        "ax.legend()\n",
        "\n",
        "ax.set_xlabel('Average Distance');"
      ],
      "execution_count": 15,
      "outputs": [
        {
          "output_type": "display_data",
          "data": {
            "image/png": "[encoded data removed]",
            "text/plain": [
              "<Figure size 432x288 with 1 Axes>"
            ]
          },
          "metadata": {
            "needs_background": "light"
          }
        }
      ]
    },
    {
      "cell_type": "code",
      "metadata": {
        "colab": {
          "base_uri": "https://localhost:8080/",
          "height": 265
        },
        "id": "cuC2kE1TROfx",
        "outputId": "63c84679-b620-4dd3-c8b6-31c9a450e707"
      },
      "source": [
        "fig, ax = plt.subplots(1,1)\n",
        "ax.boxplot([df_list[i]['CNS_Rmins'], df_list[i]['RNS_Ravgs']], sym=\"b*\")\n",
        "ax.set_ylabel('Average Distance')\n",
        "plt.xticks([1, 2], \n",
        "           ['Rmin', 'Ravg']);"
      ],
      "execution_count": 16,
      "outputs": [
        {
          "output_type": "display_data",
          "data": {
            "image/png": "[encoded data removed]",
            "text/plain": [
              "<Figure size 432x288 with 1 Axes>"
            ]
          },
          "metadata": {
            "needs_background": "light"
          }
        }
      ]
    }
  ]
}