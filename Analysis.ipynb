{
  "nbformat": 4,
  "nbformat_minor": 0,
  "metadata": {
    "colab": {
      "name": "Analysis.ipynb",
      "provenance": [],
      "collapsed_sections": [],
      "authorship_tag": "ABX9TyPBOsih7tWc9ZSguaQm+iL2",
      "include_colab_link": true
    },
    "kernelspec": {
      "name": "python3",
      "display_name": "Python 3"
    },
    "language_info": {
      "name": "python"
    }
  },
  "cells": [
    {
      "cell_type": "markdown",
      "metadata": {
        "id": "view-in-github",
        "colab_type": "text"
      },
      "source": [
        "<a href=\"https://colab.research.google.com/github/mesahwi/Birdsong_Continuity/blob/main/Analysis.ipynb\" target=\"_parent\"><img src=\"https://colab.research.google.com/assets/colab-badge.svg\" alt=\"Open In Colab\"/></a>"
      ]
    },
    {
      "cell_type": "code",
      "metadata": {
        "id": "aZ1VRZB9YYRA"
      },
      "source": [
        "!git clone https://github.com/mesahwi/Birdsong_Continuity.git"
      ],
      "execution_count": null,
      "outputs": []
    },
    {
      "cell_type": "code",
      "metadata": {
        "id": "BKa8p3lW32qY"
      },
      "source": [
        "!bash load_results.sh"
      ],
      "execution_count": null,
      "outputs": []
    },
    {
      "cell_type": "code",
      "metadata": {
        "id": "5_ILfoxA2MoB"
      },
      "source": [
        "!pip install pingouin &> /dev/null"
      ],
      "execution_count": null,
      "outputs": []
    },
    {
      "cell_type": "code",
      "metadata": {
        "id": "0GiYlReS2c8-"
      },
      "source": [
        "import numpy as np\n",
        "import pandas as pd\n",
        "import os\n",
        "from glob import glob\n",
        "\n",
        "from tqdm.notebook import tqdm\n",
        "import matplotlib.pyplot as plt\n",
        "import seaborn as sns\n",
        "\n",
        "import pingouin as pg"
      ],
      "execution_count": null,
      "outputs": []
    },
    {
      "cell_type": "code",
      "metadata": {
        "id": "fkm8JCRT2edV"
      },
      "source": [
        "WHOLE_DIR = 'KNN_results/'\n",
        "SEG_DIR = WHOLE_DIR+'segments/'"
      ],
      "execution_count": null,
      "outputs": []
    },
    {
      "cell_type": "markdown",
      "metadata": {
        "id": "QUNUeG6C9_Nm"
      },
      "source": [
        "# Whole syllable analysis"
      ]
    },
    {
      "cell_type": "code",
      "metadata": {
        "id": "-aTH_kfJKO8-"
      },
      "source": [
        "whole = glob(WHOLE_DIR+'*.csv')\n",
        "df_whole = pd.read_csv(whole[0], index_col=0)"
      ],
      "execution_count": null,
      "outputs": []
    },
    {
      "cell_type": "code",
      "metadata": {
        "colab": {
          "base_uri": "https://localhost:8080/",
          "height": 80
        },
        "id": "VwfKphL9KSwk",
        "outputId": "5779376f-119e-4b88-abd6-07d3461d6546"
      },
      "source": [
        "whole_wilcoxon = pg.wilcoxon(df_whole['CNS_Rmins'], df_whole['RNS_Ravgs'], tail='one-sided')\n",
        "whole_wilcoxon"
      ],
      "execution_count": null,
      "outputs": [
        {
          "output_type": "execute_result",
          "data": {
            "text/html": [
              "<div>\n",
              "<style scoped>\n",
              "    .dataframe tbody tr th:only-of-type {\n",
              "        vertical-align: middle;\n",
              "    }\n",
              "\n",
              "    .dataframe tbody tr th {\n",
              "        vertical-align: top;\n",
              "    }\n",
              "\n",
              "    .dataframe thead th {\n",
              "        text-align: right;\n",
              "    }\n",
              "</style>\n",
              "<table border=\"1\" class=\"dataframe\">\n",
              "  <thead>\n",
              "    <tr style=\"text-align: right;\">\n",
              "      <th></th>\n",
              "      <th>W-val</th>\n",
              "      <th>tail</th>\n",
              "      <th>p-val</th>\n",
              "      <th>RBC</th>\n",
              "      <th>CLES</th>\n",
              "    </tr>\n",
              "  </thead>\n",
              "  <tbody>\n",
              "    <tr>\n",
              "      <th>Wilcoxon</th>\n",
              "      <td>12687.0</td>\n",
              "      <td>less</td>\n",
              "      <td>3.511244e-70</td>\n",
              "      <td>-0.84836</td>\n",
              "      <td>0.761291</td>\n",
              "    </tr>\n",
              "  </tbody>\n",
              "</table>\n",
              "</div>"
            ],
            "text/plain": [
              "            W-val  tail         p-val      RBC      CLES\n",
              "Wilcoxon  12687.0  less  3.511244e-70 -0.84836  0.761291"
            ]
          },
          "metadata": {
            "tags": []
          },
          "execution_count": 6
        }
      ]
    },
    {
      "cell_type": "code",
      "metadata": {
        "colab": {
          "base_uri": "https://localhost:8080/",
          "height": 265
        },
        "id": "jANWYHbL2try",
        "outputId": "582730fc-4a7a-48fd-c2bb-f845ece7cb82"
      },
      "source": [
        "fig, ax = plt.subplots(1,1)\n",
        "ax.boxplot([df_whole['CNS_Rmins'], df_whole['RNS_Ravgs']], sym=\"b*\")\n",
        "\n",
        "ax.set_ylabel('Values')\n",
        "plt.xticks([1, 2], \n",
        "           ['Rmin', 'Ravg']);"
      ],
      "execution_count": null,
      "outputs": [
        {
          "output_type": "display_data",
          "data": {
            "image/png": "[encoded data removed]",
            "text/plain": [
              "<Figure size 432x288 with 1 Axes>"
            ]
          },
          "metadata": {
            "tags": [],
            "needs_background": "light"
          }
        }
      ]
    },
    {
      "cell_type": "code",
      "metadata": {
        "colab": {
          "base_uri": "https://localhost:8080/",
          "height": 279
        },
        "id": "WsFDyIc2SbCC",
        "outputId": "221fed31-27de-4b18-8fba-2fe959c26e4b"
      },
      "source": [
        "N = len(df_whole['CNS_Rmins'])\n",
        "\n",
        "fig, ax = plt.subplots(1,1)\n",
        "sns.kdeplot(df_whole['CNS_Rmins'], ax=ax, label='Rmin')\n",
        "sns.kdeplot(df_whole['RNS_Ravgs'] , ax=ax, label='Ravg')\n",
        "\n",
        "ax.legend()\n",
        "\n",
        "ax.set_xlabel('Average Distance');"
      ],
      "execution_count": null,
      "outputs": [
        {
          "output_type": "display_data",
          "data": {
            "image/png": "[encoded data removed]",
            "text/plain": [
              "<Figure size 432x288 with 1 Axes>"
            ]
          },
          "metadata": {
            "tags": [],
            "needs_background": "light"
          }
        }
      ]
    },
    {
      "cell_type": "markdown",
      "metadata": {
        "id": "y-E8JG0kKPD5"
      },
      "source": [
        "# Segment-wise analysis"
      ]
    },
    {
      "cell_type": "code",
      "metadata": {
        "id": "hNHF9Ov7CGVx"
      },
      "source": [
        "## sorted file names (by time)\n",
        "seg_file_names = glob(SEG_DIR+'*.csv')\n",
        "seg_file_names = sorted(seg_file_names, key=lambda x:float(x.split(']')[-2].split(',')[-1][1:].split(' ')[0]))"
      ],
      "execution_count": null,
      "outputs": []
    },
    {
      "cell_type": "code",
      "metadata": {
        "colab": {
          "base_uri": "https://localhost:8080/",
          "height": 66,
          "referenced_widgets": [
            "f40e439de55e4811b9adc8686ecc2691",
            "53da7214ae7544e8aaef0bcbb40d0bc7",
            "ce050d06bc204bbe85cb70a312729bc1",
            "1367a1314f164ff6906f1a64870e8a67",
            "05b999568fc44694845b7a8401163364",
            "fec497a521a24ab68736cf4a62b42c14",
            "106aebf76782402e9640d8a7ad753e7d",
            "a302d7c40608484e90f84aa727f523eb"
          ]
        },
        "id": "zhSbqvwJCaJG",
        "outputId": "432fbd83-58ab-4a30-dfbb-5bcfcaa1bb35"
      },
      "source": [
        "df_list = []\n",
        "for filename in tqdm(seg_file_names):\n",
        "    df_list.append(pd.read_csv(filename, index_col=0))"
      ],
      "execution_count": null,
      "outputs": [
        {
          "output_type": "display_data",
          "data": {
            "application/vnd.jupyter.widget-view+json": {
              "model_id": "f40e439de55e4811b9adc8686ecc2691",
              "version_minor": 0,
              "version_major": 2
            },
            "text/plain": [
              "HBox(children=(FloatProgress(value=0.0, max=45.0), HTML(value='')))"
            ]
          },
          "metadata": {
            "tags": []
          }
        },
        {
          "output_type": "stream",
          "text": [
            "\n"
          ],
          "name": "stdout"
        }
      ]
    },
    {
      "cell_type": "code",
      "metadata": {
        "colab": {
          "base_uri": "https://localhost:8080/"
        },
        "id": "Jj7TinoVCaWY",
        "outputId": "217af8fb-7dd3-46ed-ce62-8d558a72e859"
      },
      "source": [
        "ws = []\n",
        "num_sigs = 0\n",
        "for i, df in enumerate(df_list):\n",
        "    w = pg.wilcoxon(df['CNS_Rmins'], df['RNS_Ravgs'], tail='one-sided')\n",
        "    ws.append(abs(w.RBC.values[0]))\n",
        "\n",
        "    if w[\"p-val\"].values[0] < 0.05:\n",
        "    # if wilcoxon(df['CNS_Rmins'], df['RNS_Ravgs'], alternative='less').pvalue < 0.05:\n",
        "        sig = True\n",
        "        num_sigs += 1\n",
        "    else:\n",
        "        sig = False\n",
        "    print(i, f'RBC : {abs(w.RBC.values[0])}, Significance : {sig}')\n",
        "\n",
        "print('average RBC :', np.mean(ws), 'How many significant :', num_sigs)"
      ],
      "execution_count": null,
      "outputs": [
        {
          "output_type": "stream",
          "text": [
            "0 RBC : 0.4467134003860611, Significance : True\n",
            "1 RBC : 0.5026982447962423, Significance : True\n",
            "2 RBC : 0.5033436721229181, Significance : True\n",
            "3 RBC : 0.4120515624719867, Significance : True\n",
            "4 RBC : 0.5086505190311419, Significance : True\n",
            "5 RBC : 0.4729607783375465, Significance : True\n",
            "6 RBC : 0.503522957491439, Significance : True\n",
            "7 RBC : 0.4915586472321327, Significance : True\n",
            "8 RBC : 0.5849543718737114, Significance : True\n",
            "9 RBC : 0.546694874231314, Significance : True\n",
            "10 RBC : 0.5611691796499154, Significance : True\n",
            "11 RBC : 0.5956039227638632, Significance : True\n",
            "12 RBC : 0.6104607036353096, Significance : True\n",
            "13 RBC : 0.6620948897693792, Significance : True\n",
            "14 RBC : 0.6310307115836276, Significance : True\n",
            "15 RBC : 0.550770628275693, Significance : True\n",
            "16 RBC : 0.6119427960150838, Significance : True\n",
            "17 RBC : 0.7468371072903408, Significance : True\n",
            "18 RBC : 0.7852878426591605, Significance : True\n",
            "19 RBC : 0.8498425276846491, Significance : True\n",
            "20 RBC : 0.8568705141306752, Significance : True\n",
            "21 RBC : 0.8703886309171642, Significance : True\n",
            "22 RBC : 0.9241025273260783, Significance : True\n",
            "23 RBC : 0.9119469793403494, Significance : True\n",
            "24 RBC : 0.870412535632967, Significance : True\n",
            "25 RBC : 0.9023970453771268, Significance : True\n",
            "26 RBC : 0.8706754875067979, Significance : True\n",
            "27 RBC : 0.7739928644423328, Significance : True\n",
            "28 RBC : 0.765172024311096, Significance : True\n",
            "29 RBC : 0.7210558712970101, Significance : True\n",
            "30 RBC : 0.7015137661282129, Significance : True\n",
            "31 RBC : 0.7227411537611081, Significance : True\n",
            "32 RBC : 0.7903317376935535, Significance : True\n",
            "33 RBC : 0.8196508716257, Significance : True\n",
            "34 RBC : 0.8387626919100466, Significance : True\n",
            "35 RBC : 0.8444161571974111, Significance : True\n",
            "36 RBC : 0.8131368365694343, Significance : True\n",
            "37 RBC : 0.7577137529806193, Significance : True\n",
            "38 RBC : 0.7171235455474478, Significance : True\n",
            "39 RBC : 0.741147784929272, Significance : True\n",
            "40 RBC : 0.6829517543073309, Significance : True\n",
            "41 RBC : 0.5917791682354137, Significance : True\n",
            "42 RBC : 0.6793899516527122, Significance : True\n",
            "43 RBC : 0.7391756458755401, Significance : True\n",
            "44 RBC : 0.6290585725298958, Significance : True\n",
            "average RBC : 0.691424382411707 How many significant : 45\n"
          ],
          "name": "stdout"
        }
      ]
    },
    {
      "cell_type": "code",
      "metadata": {
        "colab": {
          "base_uri": "https://localhost:8080/",
          "height": 279
        },
        "id": "wiAYCv45LsdP",
        "outputId": "356d3f50-1f65-48eb-c194-b513e54261e2"
      },
      "source": [
        "fig, ax = plt.subplots(1,1)\n",
        "ax.set_ylabel('Effect Size')\n",
        "ax.set_xlabel('Segment id')\n",
        "ax.hlines(y=abs(whole_wilcoxon.RBC), xmin=0, xmax=45, linestyles='dotted')\n",
        "ax.bar(x=np.arange(len(ws)), height=[abs(x) for x in ws]);"
      ],
      "execution_count": null,
      "outputs": [
        {
          "output_type": "display_data",
          "data": {
            "image/png": "[encoded data removed]",
            "text/plain": [
              "<Figure size 432x288 with 1 Axes>"
            ]
          },
          "metadata": {
            "tags": [],
            "needs_background": "light"
          }
        }
      ]
    },
    {
      "cell_type": "markdown",
      "metadata": {
        "id": "b-R98xgz2q_E"
      },
      "source": [
        "## Segment 22"
      ]
    },
    {
      "cell_type": "code",
      "metadata": {
        "colab": {
          "base_uri": "https://localhost:8080/",
          "height": 279
        },
        "id": "DjdmxzmFh1gu",
        "outputId": "a9493d5e-c6c1-4015-f429-76e038e6142a"
      },
      "source": [
        "i = 22\n",
        "N = len(df['CNS_Rmins'])\n",
        "\n",
        "fig, ax = plt.subplots(1,1)\n",
        "sns.kdeplot(df_list[i]['CNS_Rmins'], ax=ax, label='Rmin')\n",
        "sns.kdeplot(df_list[i]['RNS_Ravgs'] , ax=ax, label='Ravg')\n",
        "ax.legend()\n",
        "\n",
        "ax.set_xlabel('Average Distance');"
      ],
      "execution_count": null,
      "outputs": [
        {
          "output_type": "display_data",
          "data": {
            "image/png": "[encoded data removed]",
            "text/plain": [
              "<Figure size 432x288 with 1 Axes>"
            ]
          },
          "metadata": {
            "tags": [],
            "needs_background": "light"
          }
        }
      ]
    },
    {
      "cell_type": "code",
      "metadata": {
        "colab": {
          "base_uri": "https://localhost:8080/",
          "height": 265
        },
        "id": "cuC2kE1TROfx",
        "outputId": "e2b72213-9326-4fe2-fb52-296f4b5b7aaa"
      },
      "source": [
        "fig, ax = plt.subplots(1,1)\n",
        "ax.boxplot([df_list[i]['CNS_Rmins'], df_list[i]['RNS_Ravgs']], sym=\"b*\")\n",
        "\n",
        "plt.xticks([1, 2], \n",
        "           ['Rmin', 'Ravg']);"
      ],
      "execution_count": null,
      "outputs": [
        {
          "output_type": "display_data",
          "data": {
            "image/png": "[encoded data removed]",
            "text/plain": [
              "<Figure size 432x288 with 1 Axes>"
            ]
          },
          "metadata": {
            "tags": [],
            "needs_background": "light"
          }
        }
      ]
    }
  ]
}