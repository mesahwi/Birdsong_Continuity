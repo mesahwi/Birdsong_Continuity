{
  "nbformat": 4,
  "nbformat_minor": 0,
  "metadata": {
    "colab": {
      "name": "Naive_knn.ipynb",
      "provenance": [],
      "toc_visible": true,
      "authorship_tag": "ABX9TyPxBGk5123a/5sQ84t/cWij"
    },
    "kernelspec": {
      "name": "python3",
      "display_name": "Python 3"
    },
    "language_info": {
      "name": "python"
    }
  },
  "cells": [
    {
      "cell_type": "code",
      "metadata": {
        "id": "g-v4KjQ_EFRt"
      },
      "source": [
        "!git clone https://github.com/mesahwi/Birdsong_Continuity.git"
      ],
      "execution_count": null,
      "outputs": []
    },
    {
      "cell_type": "code",
      "metadata": {
        "id": "EcvnyFlAEU1O"
      },
      "source": [
        "%cd Birdsong_Continuity"
      ],
      "execution_count": null,
      "outputs": []
    },
    {
      "cell_type": "code",
      "metadata": {
        "id": "d4wI3yzUKuUE"
      },
      "source": [
        "!bash get_data.sh"
      ],
      "execution_count": null,
      "outputs": []
    },
    {
      "cell_type": "code",
      "metadata": {
        "id": "KyD0DNCwB249"
      },
      "source": [
        "from misc import *\n",
        "import compute_continuity\n",
        "\n",
        "import numpy as np\n",
        "import pandas as pd\n",
        "\n",
        "import scipy.io"
      ],
      "execution_count": 4,
      "outputs": []
    },
    {
      "cell_type": "code",
      "metadata": {
        "id": "HsoCY0YqD9ux"
      },
      "source": [
        "# Loading data\n",
        "audioevt_onset = np.load('Data/audioevt_onset.npy')\n",
        "audioevt_duration = np.load('Data/audioevt_duration.npy')\n",
        "audioevt_isdir = np.load('Data/audioevt_isdir.npy')\n",
        "audioevt_group = np.load('Data/audioevt_group.npy')\n",
        "audioevt_fsource = np.load('Data/audioevt_fsource.npy')\n",
        "\n",
        "spk_cluster = np.load('Data/spk_cluster.npy')\n",
        "spk_fsource = np.load('Data/spk_fsource.npy')\n",
        "spk_times = np.load('Data/spk_times.npy')\n",
        "\n",
        "audioevt_group_info = pd.read_csv('Data/audioevt_group_info.tsv', delimiter='\\t', header=0)\n",
        "file_info = pd.read_csv('Data/file_info.tsv', delimiter='\\t', header=0)\n",
        "spk_cluster_info = pd.read_csv('Data/spk_cluster_info.tsv', delimiter='\\t', header=0)\n",
        "\n",
        "vocal_data = scipy.io.loadmat('Data/vocal_data_g4r4_20190718_02.mat')\n",
        "spec_files = vocal_data['specs'][0]"
      ],
      "execution_count": 5,
      "outputs": []
    },
    {
      "cell_type": "code",
      "metadata": {
        "id": "3sayHIfkFapM"
      },
      "source": [
        "## Audio Data (Start and Duration)\n",
        "audioevt_properties = pd.DataFrame()\n",
        "\n",
        "aud_idx1 = np.isin(audioevt_group, [2]) #syllable A\n",
        "aud_idx2 = np.isin(audioevt_fsource, [1]) #first file\n",
        "\n",
        "aud_idx = aud_idx1\n",
        "\n",
        "audioevt_properties['evt_id'] = np.arange(len(audioevt_onset[aud_idx]))\n",
        "audioevt_properties['syllable_start'] = audioevt_onset[aud_idx]\n",
        "audioevt_properties['duration'] = audioevt_duration[aud_idx]\n",
        "audioevt_properties['file_num'] = audioevt_fsource[audioevt_group==2]"
      ],
      "execution_count": 6,
      "outputs": []
    },
    {
      "cell_type": "code",
      "metadata": {
        "colab": {
          "base_uri": "https://localhost:8080/",
          "height": 419
        },
        "id": "Zo5QmqSgFsZO",
        "outputId": "a0e8e4d0-b613-4170-dd47-c7eadc794f58"
      },
      "source": [
        "##Getting rid of faulty syllables : 213, 312, 431\n",
        "audioevt_properties.drop(index=[213,312,431], inplace=True)\n",
        "audioevt_properties['evt_id'] = np.arange(audioevt_properties.shape[0])\n",
        "audioevt_properties.reset_index(drop=True, inplace=True)\n",
        "audioevt_properties"
      ],
      "execution_count": 7,
      "outputs": [
        {
          "output_type": "execute_result",
          "data": {
            "text/html": [
              "<div>\n",
              "<style scoped>\n",
              "    .dataframe tbody tr th:only-of-type {\n",
              "        vertical-align: middle;\n",
              "    }\n",
              "\n",
              "    .dataframe tbody tr th {\n",
              "        vertical-align: top;\n",
              "    }\n",
              "\n",
              "    .dataframe thead th {\n",
              "        text-align: right;\n",
              "    }\n",
              "</style>\n",
              "<table border=\"1\" class=\"dataframe\">\n",
              "  <thead>\n",
              "    <tr style=\"text-align: right;\">\n",
              "      <th></th>\n",
              "      <th>evt_id</th>\n",
              "      <th>syllable_start</th>\n",
              "      <th>duration</th>\n",
              "      <th>file_num</th>\n",
              "    </tr>\n",
              "  </thead>\n",
              "  <tbody>\n",
              "    <tr>\n",
              "      <th>0</th>\n",
              "      <td>0</td>\n",
              "      <td>2347741</td>\n",
              "      <td>7775</td>\n",
              "      <td>1</td>\n",
              "    </tr>\n",
              "    <tr>\n",
              "      <th>1</th>\n",
              "      <td>1</td>\n",
              "      <td>2356481</td>\n",
              "      <td>7637</td>\n",
              "      <td>1</td>\n",
              "    </tr>\n",
              "    <tr>\n",
              "      <th>2</th>\n",
              "      <td>2</td>\n",
              "      <td>2365884</td>\n",
              "      <td>7613</td>\n",
              "      <td>1</td>\n",
              "    </tr>\n",
              "    <tr>\n",
              "      <th>3</th>\n",
              "      <td>3</td>\n",
              "      <td>2378125</td>\n",
              "      <td>7557</td>\n",
              "      <td>1</td>\n",
              "    </tr>\n",
              "    <tr>\n",
              "      <th>4</th>\n",
              "      <td>4</td>\n",
              "      <td>2488812</td>\n",
              "      <td>7530</td>\n",
              "      <td>1</td>\n",
              "    </tr>\n",
              "    <tr>\n",
              "      <th>...</th>\n",
              "      <td>...</td>\n",
              "      <td>...</td>\n",
              "      <td>...</td>\n",
              "      <td>...</td>\n",
              "    </tr>\n",
              "    <tr>\n",
              "      <th>573</th>\n",
              "      <td>573</td>\n",
              "      <td>875109</td>\n",
              "      <td>7588</td>\n",
              "      <td>11</td>\n",
              "    </tr>\n",
              "    <tr>\n",
              "      <th>574</th>\n",
              "      <td>574</td>\n",
              "      <td>884463</td>\n",
              "      <td>7602</td>\n",
              "      <td>11</td>\n",
              "    </tr>\n",
              "    <tr>\n",
              "      <th>575</th>\n",
              "      <td>575</td>\n",
              "      <td>896732</td>\n",
              "      <td>7452</td>\n",
              "      <td>11</td>\n",
              "    </tr>\n",
              "    <tr>\n",
              "      <th>576</th>\n",
              "      <td>576</td>\n",
              "      <td>909070</td>\n",
              "      <td>7501</td>\n",
              "      <td>11</td>\n",
              "    </tr>\n",
              "    <tr>\n",
              "      <th>577</th>\n",
              "      <td>577</td>\n",
              "      <td>922039</td>\n",
              "      <td>7592</td>\n",
              "      <td>11</td>\n",
              "    </tr>\n",
              "  </tbody>\n",
              "</table>\n",
              "<p>578 rows × 4 columns</p>\n",
              "</div>"
            ],
            "text/plain": [
              "     evt_id  syllable_start  duration  file_num\n",
              "0         0         2347741      7775         1\n",
              "1         1         2356481      7637         1\n",
              "2         2         2365884      7613         1\n",
              "3         3         2378125      7557         1\n",
              "4         4         2488812      7530         1\n",
              "..      ...             ...       ...       ...\n",
              "573     573          875109      7588        11\n",
              "574     574          884463      7602        11\n",
              "575     575          896732      7452        11\n",
              "576     576          909070      7501        11\n",
              "577     577          922039      7592        11\n",
              "\n",
              "[578 rows x 4 columns]"
            ]
          },
          "metadata": {
            "tags": []
          },
          "execution_count": 7
        }
      ]
    },
    {
      "cell_type": "code",
      "metadata": {
        "id": "ycuqb9huVoTL"
      },
      "source": [
        "neural2spectral_delay = ms2samples(30,20)\n",
        "neural_bin_size = ms2samples(10, 20)"
      ],
      "execution_count": 8,
      "outputs": []
    },
    {
      "cell_type": "code",
      "metadata": {
        "id": "keURe6zaaPsZ"
      },
      "source": [
        "spectral_full_window = [ms2samples(0,20), ms2samples(400,20)]\n",
        "neural_full_window = [ms2samples(0,20)-neural2spectral_delay, ms2samples(400,20)-neural2spectral_delay]"
      ],
      "execution_count": 9,
      "outputs": []
    },
    {
      "cell_type": "markdown",
      "metadata": {
        "id": "1RfrrzmtWim0"
      },
      "source": [
        "### Spectrogram"
      ]
    },
    {
      "cell_type": "code",
      "metadata": {
        "colab": {
          "base_uri": "https://localhost:8080/",
          "height": 369
        },
        "id": "J51K8WawWdx5",
        "outputId": "d30d9a2b-4c9d-4606-eac6-f48de690d197"
      },
      "source": [
        "spectral_full_activity = get_spectral_activity(spec_files, audioevt_properties, spectral_full_window)\n",
        "plot_spectrogram(spectral_full_activity, title=None)"
      ],
      "execution_count": 10,
      "outputs": [
        {
          "output_type": "display_data",
          "data": {
            "image/png": "[encoded data removed]",
            "text/plain": [
              "<Figure size 576x360 with 2 Axes>"
            ]
          },
          "metadata": {
            "tags": [],
            "needs_background": "light"
          }
        }
      ]
    },
    {
      "cell_type": "markdown",
      "metadata": {
        "id": "iY-YkEP6YbOt"
      },
      "source": [
        "## neural"
      ]
    },
    {
      "cell_type": "code",
      "metadata": {
        "id": "Pbkqlf-EYbTl"
      },
      "source": [
        "total_channels = spk_cluster_info['id'].unique()\n",
        "channels_of_interest = total_channels[(total_channels >= 220) & (total_channels <= 300)] #LMAN"
      ],
      "execution_count": 11,
      "outputs": []
    },
    {
      "cell_type": "code",
      "metadata": {
        "id": "w_bJDPdGYeDH"
      },
      "source": [
        "neural_properties_list = get_neural_properties_list(audioevt_fsource, spk_fsource, spk_cluster_info, spk_times, spk_cluster)"
      ],
      "execution_count": 12,
      "outputs": []
    },
    {
      "cell_type": "code",
      "metadata": {
        "colab": {
          "base_uri": "https://localhost:8080/",
          "height": 419
        },
        "id": "zMqjZthvYq7W",
        "outputId": "818ed410-8cc9-4a78-b5ba-b5653d63af5f"
      },
      "source": [
        "neural_properties_list[0] ## for first file"
      ],
      "execution_count": 13,
      "outputs": [
        {
          "output_type": "execute_result",
          "data": {
            "text/html": [
              "<div>\n",
              "<style scoped>\n",
              "    .dataframe tbody tr th:only-of-type {\n",
              "        vertical-align: middle;\n",
              "    }\n",
              "\n",
              "    .dataframe tbody tr th {\n",
              "        vertical-align: top;\n",
              "    }\n",
              "\n",
              "    .dataframe thead th {\n",
              "        text-align: right;\n",
              "    }\n",
              "</style>\n",
              "<table border=\"1\" class=\"dataframe\">\n",
              "  <thead>\n",
              "    <tr style=\"text-align: right;\">\n",
              "      <th></th>\n",
              "      <th>channel_id</th>\n",
              "      <th>file_num</th>\n",
              "      <th>spikes</th>\n",
              "    </tr>\n",
              "  </thead>\n",
              "  <tbody>\n",
              "    <tr>\n",
              "      <th>0</th>\n",
              "      <td>0</td>\n",
              "      <td>1</td>\n",
              "      <td>[]</td>\n",
              "    </tr>\n",
              "    <tr>\n",
              "      <th>1</th>\n",
              "      <td>1</td>\n",
              "      <td>1</td>\n",
              "      <td>[]</td>\n",
              "    </tr>\n",
              "    <tr>\n",
              "      <th>2</th>\n",
              "      <td>2</td>\n",
              "      <td>1</td>\n",
              "      <td>[]</td>\n",
              "    </tr>\n",
              "    <tr>\n",
              "      <th>3</th>\n",
              "      <td>3</td>\n",
              "      <td>1</td>\n",
              "      <td>[300, 585, 717, 857, 1085, 1219, 1440, 1566, 1...</td>\n",
              "    </tr>\n",
              "    <tr>\n",
              "      <th>4</th>\n",
              "      <td>4</td>\n",
              "      <td>1</td>\n",
              "      <td>[]</td>\n",
              "    </tr>\n",
              "    <tr>\n",
              "      <th>...</th>\n",
              "      <td>...</td>\n",
              "      <td>...</td>\n",
              "      <td>...</td>\n",
              "    </tr>\n",
              "    <tr>\n",
              "      <th>261</th>\n",
              "      <td>304</td>\n",
              "      <td>1</td>\n",
              "      <td>[10454, 11955, 36231, 36389, 36997, 39481, 397...</td>\n",
              "    </tr>\n",
              "    <tr>\n",
              "      <th>262</th>\n",
              "      <td>305</td>\n",
              "      <td>1</td>\n",
              "      <td>[5080, 9415, 10327, 10335, 10849, 11003, 13077...</td>\n",
              "    </tr>\n",
              "    <tr>\n",
              "      <th>263</th>\n",
              "      <td>306</td>\n",
              "      <td>1</td>\n",
              "      <td>[435, 1096, 2462, 2962, 3835, 5657, 8189, 8596...</td>\n",
              "    </tr>\n",
              "    <tr>\n",
              "      <th>264</th>\n",
              "      <td>307</td>\n",
              "      <td>1</td>\n",
              "      <td>[521439, 1168810, 2437865, 3048073, 3048215, 3...</td>\n",
              "    </tr>\n",
              "    <tr>\n",
              "      <th>265</th>\n",
              "      <td>308</td>\n",
              "      <td>1</td>\n",
              "      <td>[729, 1825, 23838, 42157, 47452, 61027, 61191,...</td>\n",
              "    </tr>\n",
              "  </tbody>\n",
              "</table>\n",
              "<p>266 rows × 3 columns</p>\n",
              "</div>"
            ],
            "text/plain": [
              "     channel_id  file_num                                             spikes\n",
              "0             0         1                                                 []\n",
              "1             1         1                                                 []\n",
              "2             2         1                                                 []\n",
              "3             3         1  [300, 585, 717, 857, 1085, 1219, 1440, 1566, 1...\n",
              "4             4         1                                                 []\n",
              "..          ...       ...                                                ...\n",
              "261         304         1  [10454, 11955, 36231, 36389, 36997, 39481, 397...\n",
              "262         305         1  [5080, 9415, 10327, 10335, 10849, 11003, 13077...\n",
              "263         306         1  [435, 1096, 2462, 2962, 3835, 5657, 8189, 8596...\n",
              "264         307         1  [521439, 1168810, 2437865, 3048073, 3048215, 3...\n",
              "265         308         1  [729, 1825, 23838, 42157, 47452, 61027, 61191,...\n",
              "\n",
              "[266 rows x 3 columns]"
            ]
          },
          "metadata": {
            "tags": []
          },
          "execution_count": 13
        }
      ]
    },
    {
      "cell_type": "markdown",
      "metadata": {
        "id": "ijvMsj7vDStr"
      },
      "source": [
        "## Raster"
      ]
    },
    {
      "cell_type": "code",
      "metadata": {
        "colab": {
          "base_uri": "https://localhost:8080/",
          "height": 279
        },
        "id": "p286BFq2JwPr",
        "outputId": "455540a1-636a-4ad9-99e3-790b7c3db9a0"
      },
      "source": [
        "plot_raster(audioevt_onset, neural_properties_list, 0, 0, neural_full_window, channels_of_interest=neural_properties_list[0]['channel_id'])"
      ],
      "execution_count": 14,
      "outputs": [
        {
          "output_type": "display_data",
          "data": {
            "image/png": "[encoded data removed]",
            "text/plain": [
              "<Figure size 432x288 with 1 Axes>"
            ]
          },
          "metadata": {
            "tags": [],
            "needs_background": "light"
          }
        }
      ]
    },
    {
      "cell_type": "markdown",
      "metadata": {
        "id": "Zj5Mj9xYZfkf"
      },
      "source": [
        "# compute continuity"
      ]
    },
    {
      "cell_type": "code",
      "metadata": {
        "id": "rNkGgTuEFtsS"
      },
      "source": [
        "o = compute_continuity.continuity_computation(neural_properties_list, spec_files, audioevt_properties, \n",
        "                                              channels_of_interest, neural_full_window, spectral_full_window, neural_bin_size=neural_bin_size, spectral_bin_size=80)\n",
        "\n",
        "o.to_csv('KNN_results/naive_knn.csv')"
      ],
      "execution_count": null,
      "outputs": []
    }
  ]
}