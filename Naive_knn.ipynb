{
  "nbformat": 4,
  "nbformat_minor": 0,
  "metadata": {
    "colab": {
      "name": "Naive_knn.ipynb",
      "provenance": [],
      "collapsed_sections": [],
      "mount_file_id": "1jNDSPTGd3ld0R_LS4DlrokS8IXC6DTwX",
      "authorship_tag": "ABX9TyNwIwOSfQPrdfxwDZEtlP7g",
      "include_colab_link": true
    },
    "kernelspec": {
      "display_name": "Python 3",
      "name": "python3"
    },
    "language_info": {
      "name": "python"
    }
  },
  "cells": [
    {
      "cell_type": "markdown",
      "metadata": {
        "id": "view-in-github",
        "colab_type": "text"
      },
      "source": [
        "<a href=\"https://colab.research.google.com/github/mesahwi/Birdsong_Continuity/blob/main/Naive_knn.ipynb\" target=\"_parent\"><img src=\"https://colab.research.google.com/assets/colab-badge.svg\" alt=\"Open In Colab\"/></a>"
      ]
    },
    {
      "cell_type": "code",
      "metadata": {
        "id": "xe-eJiizsjBz"
      },
      "source": [
        "import sys\n",
        "sys.path.append('/content/drive/MyDrive/2.Projects/Motor Neural Dynamics Project/Continuity/codes/utils')"
      ],
      "execution_count": 1,
      "outputs": []
    },
    {
      "cell_type": "code",
      "metadata": {
        "colab": {
          "base_uri": "https://localhost:8080/"
        },
        "id": "wd-0ICn208LK",
        "outputId": "cbcfcf1b-a50c-4f91-9210-ad919f435277"
      },
      "source": [
        "from misc import *\n",
        "from globals import *\n",
        "import compute_continuity\n",
        "\n",
        "import numpy as np\n",
        "import pandas as pd\n",
        "\n",
        "import scipy.io"
      ],
      "execution_count": 2,
      "outputs": [
        {
          "output_type": "stream",
          "text": [
            "loading syllable path pairs...\n"
          ],
          "name": "stdout"
        }
      ]
    },
    {
      "cell_type": "code",
      "metadata": {
        "id": "MAz4c1QZBbcj"
      },
      "source": [
        "# Loading data\n",
        "audioevt_onset = np.load(DATADIR+'audioevt_onset.npy')\n",
        "audioevt_duration = np.load(DATADIR+'audioevt_duration.npy')\n",
        "audioevt_isdir = np.load(DATADIR+'audioevt_isdir.npy')\n",
        "audioevt_group = np.load(DATADIR+'audioevt_group.npy')\n",
        "audioevt_fsource = np.load(DATADIR+'audioevt_fsource.npy')\n",
        "\n",
        "spk_cluster = np.load(DATADIR+'spk_cluster.npy')\n",
        "spk_fsource = np.load(DATADIR+'spk_fsource.npy')\n",
        "spk_times = np.load(DATADIR+'spk_times.npy')\n",
        "\n",
        "audioevt_group_info = pd.read_csv(DATADIR+'audioevt_group_info.tsv', delimiter='\\t', header=0)\n",
        "file_info = pd.read_csv(DATADIR+'file_info.tsv', delimiter='\\t', header=0)\n",
        "spk_cluster_info = pd.read_csv(DATADIR+'spk_cluster_info.tsv', delimiter='\\t', header=0)\n",
        "\n",
        "vocal_data = scipy.io.loadmat(DATADIR+'vocal_data_g4r4_20190718_02.mat')\n",
        "spec_files = vocal_data['specs'][0]"
      ],
      "execution_count": 3,
      "outputs": []
    },
    {
      "cell_type": "code",
      "metadata": {
        "id": "aJqjTkJDEGDa"
      },
      "source": [
        "## Audio Data (Start and Duration)\n",
        "audioevt_properties = pd.DataFrame()\n",
        "\n",
        "aud_idx1 = np.isin(audioevt_group, [2]) #syllable A\n",
        "aud_idx2 = np.isin(audioevt_fsource, [1]) #first file\n",
        "# aud_idx = np.logical_and(aud_idx1, aud_idx2)\n",
        "aud_idx = aud_idx1\n",
        "\n",
        "audioevt_properties['evt_id'] = np.arange(len(audioevt_onset[aud_idx]))\n",
        "audioevt_properties['syllable_start'] = audioevt_onset[aud_idx]\n",
        "audioevt_properties['duration'] = audioevt_duration[aud_idx]\n",
        "audioevt_properties['file_num'] = audioevt_fsource[audioevt_group==2]"
      ],
      "execution_count": 4,
      "outputs": []
    },
    {
      "cell_type": "code",
      "metadata": {
        "colab": {
          "base_uri": "https://localhost:8080/",
          "height": 419
        },
        "id": "Dhby0lbL8VHT",
        "outputId": "76fea156-3081-4a4a-c8b0-4d9add4d8c29"
      },
      "source": [
        "##Getting rid of faulty syllables : 213, 312, 431\n",
        "audioevt_properties.drop(index=[213,312,431], inplace=True)\n",
        "audioevt_properties['evt_id'] = np.arange(audioevt_properties.shape[0])\n",
        "audioevt_properties.reset_index(drop=True, inplace=True)\n",
        "audioevt_properties"
      ],
      "execution_count": 5,
      "outputs": [
        {
          "output_type": "execute_result",
          "data": {
            "text/html": [
              "<div>\n",
              "<style scoped>\n",
              "    .dataframe tbody tr th:only-of-type {\n",
              "        vertical-align: middle;\n",
              "    }\n",
              "\n",
              "    .dataframe tbody tr th {\n",
              "        vertical-align: top;\n",
              "    }\n",
              "\n",
              "    .dataframe thead th {\n",
              "        text-align: right;\n",
              "    }\n",
              "</style>\n",
              "<table border=\"1\" class=\"dataframe\">\n",
              "  <thead>\n",
              "    <tr style=\"text-align: right;\">\n",
              "      <th></th>\n",
              "      <th>evt_id</th>\n",
              "      <th>syllable_start</th>\n",
              "      <th>duration</th>\n",
              "      <th>file_num</th>\n",
              "    </tr>\n",
              "  </thead>\n",
              "  <tbody>\n",
              "    <tr>\n",
              "      <th>0</th>\n",
              "      <td>0</td>\n",
              "      <td>2347741</td>\n",
              "      <td>7775</td>\n",
              "      <td>1</td>\n",
              "    </tr>\n",
              "    <tr>\n",
              "      <th>1</th>\n",
              "      <td>1</td>\n",
              "      <td>2356481</td>\n",
              "      <td>7637</td>\n",
              "      <td>1</td>\n",
              "    </tr>\n",
              "    <tr>\n",
              "      <th>2</th>\n",
              "      <td>2</td>\n",
              "      <td>2365884</td>\n",
              "      <td>7613</td>\n",
              "      <td>1</td>\n",
              "    </tr>\n",
              "    <tr>\n",
              "      <th>3</th>\n",
              "      <td>3</td>\n",
              "      <td>2378125</td>\n",
              "      <td>7557</td>\n",
              "      <td>1</td>\n",
              "    </tr>\n",
              "    <tr>\n",
              "      <th>4</th>\n",
              "      <td>4</td>\n",
              "      <td>2488812</td>\n",
              "      <td>7530</td>\n",
              "      <td>1</td>\n",
              "    </tr>\n",
              "    <tr>\n",
              "      <th>...</th>\n",
              "      <td>...</td>\n",
              "      <td>...</td>\n",
              "      <td>...</td>\n",
              "      <td>...</td>\n",
              "    </tr>\n",
              "    <tr>\n",
              "      <th>573</th>\n",
              "      <td>573</td>\n",
              "      <td>875109</td>\n",
              "      <td>7588</td>\n",
              "      <td>11</td>\n",
              "    </tr>\n",
              "    <tr>\n",
              "      <th>574</th>\n",
              "      <td>574</td>\n",
              "      <td>884463</td>\n",
              "      <td>7602</td>\n",
              "      <td>11</td>\n",
              "    </tr>\n",
              "    <tr>\n",
              "      <th>575</th>\n",
              "      <td>575</td>\n",
              "      <td>896732</td>\n",
              "      <td>7452</td>\n",
              "      <td>11</td>\n",
              "    </tr>\n",
              "    <tr>\n",
              "      <th>576</th>\n",
              "      <td>576</td>\n",
              "      <td>909070</td>\n",
              "      <td>7501</td>\n",
              "      <td>11</td>\n",
              "    </tr>\n",
              "    <tr>\n",
              "      <th>577</th>\n",
              "      <td>577</td>\n",
              "      <td>922039</td>\n",
              "      <td>7592</td>\n",
              "      <td>11</td>\n",
              "    </tr>\n",
              "  </tbody>\n",
              "</table>\n",
              "<p>578 rows × 4 columns</p>\n",
              "</div>"
            ],
            "text/plain": [
              "     evt_id  syllable_start  duration  file_num\n",
              "0         0         2347741      7775         1\n",
              "1         1         2356481      7637         1\n",
              "2         2         2365884      7613         1\n",
              "3         3         2378125      7557         1\n",
              "4         4         2488812      7530         1\n",
              "..      ...             ...       ...       ...\n",
              "573     573          875109      7588        11\n",
              "574     574          884463      7602        11\n",
              "575     575          896732      7452        11\n",
              "576     576          909070      7501        11\n",
              "577     577          922039      7592        11\n",
              "\n",
              "[578 rows x 4 columns]"
            ]
          },
          "metadata": {
            "tags": []
          },
          "execution_count": 5
        }
      ]
    },
    {
      "cell_type": "code",
      "metadata": {
        "id": "ycuqb9huVoTL"
      },
      "source": [
        "neural2spectral_delay = ms2samples(30,20)\n",
        "neural_bin_size = ms2samples(30, 20)"
      ],
      "execution_count": 6,
      "outputs": []
    },
    {
      "cell_type": "code",
      "metadata": {
        "id": "keURe6zaaPsZ"
      },
      "source": [
        "spectral_full_window = [ms2samples(0,20), ms2samples(420,20)]\n",
        "neural_full_window = [ms2samples(0,20)-neural2spectral_delay, ms2samples(420,20)-neural2spectral_delay]"
      ],
      "execution_count": 7,
      "outputs": []
    },
    {
      "cell_type": "markdown",
      "metadata": {
        "id": "1RfrrzmtWim0"
      },
      "source": [
        "### Spectrogram"
      ]
    },
    {
      "cell_type": "code",
      "metadata": {
        "colab": {
          "base_uri": "https://localhost:8080/",
          "height": 369
        },
        "id": "J51K8WawWdx5",
        "outputId": "5ce933dc-92c5-4677-8f77-adf52b0d36bd"
      },
      "source": [
        "spectral_full_activity = get_spectral_activity(spec_files, audioevt_properties, spectral_full_window)\n",
        "plot_spectrogram(spectral_full_activity, title=None)"
      ],
      "execution_count": 8,
      "outputs": [
        {
          "output_type": "display_data",
          "data": {
            "image/png": "[encoded data removed]",
            "text/plain": [
              "<Figure size 576x360 with 2 Axes>"
            ]
          },
          "metadata": {
            "tags": [],
            "needs_background": "light"
          }
        }
      ]
    },
    {
      "cell_type": "code",
      "metadata": {
        "id": "TbvLvHK9XLzz"
      },
      "source": [
        ""
      ],
      "execution_count": null,
      "outputs": []
    },
    {
      "cell_type": "markdown",
      "metadata": {
        "id": "iY-YkEP6YbOt"
      },
      "source": [
        "## neural"
      ]
    },
    {
      "cell_type": "code",
      "metadata": {
        "id": "Pbkqlf-EYbTl"
      },
      "source": [
        "total_channels = spk_cluster_info['id'].unique()\n",
        "channels_of_interest = total_channels[(total_channels >= 220) & (total_channels <= 300)] #LMAN"
      ],
      "execution_count": 8,
      "outputs": []
    },
    {
      "cell_type": "code",
      "metadata": {
        "id": "w_bJDPdGYeDH"
      },
      "source": [
        "neural_properties_list = get_neural_properties_list(audioevt_fsource, spk_fsource, spk_cluster_info, spk_times, spk_cluster)"
      ],
      "execution_count": 9,
      "outputs": []
    },
    {
      "cell_type": "code",
      "metadata": {
        "colab": {
          "base_uri": "https://localhost:8080/",
          "height": 419
        },
        "id": "zMqjZthvYq7W",
        "outputId": "f74b8c0a-9e21-4444-d9a5-79f628f94a51"
      },
      "source": [
        "neural_properties_list[0] ## for first file"
      ],
      "execution_count": 11,
      "outputs": [
        {
          "output_type": "execute_result",
          "data": {
            "text/html": [
              "<div>\n",
              "<style scoped>\n",
              "    .dataframe tbody tr th:only-of-type {\n",
              "        vertical-align: middle;\n",
              "    }\n",
              "\n",
              "    .dataframe tbody tr th {\n",
              "        vertical-align: top;\n",
              "    }\n",
              "\n",
              "    .dataframe thead th {\n",
              "        text-align: right;\n",
              "    }\n",
              "</style>\n",
              "<table border=\"1\" class=\"dataframe\">\n",
              "  <thead>\n",
              "    <tr style=\"text-align: right;\">\n",
              "      <th></th>\n",
              "      <th>channel_id</th>\n",
              "      <th>file_num</th>\n",
              "      <th>spikes</th>\n",
              "    </tr>\n",
              "  </thead>\n",
              "  <tbody>\n",
              "    <tr>\n",
              "      <th>0</th>\n",
              "      <td>0</td>\n",
              "      <td>1</td>\n",
              "      <td>[]</td>\n",
              "    </tr>\n",
              "    <tr>\n",
              "      <th>1</th>\n",
              "      <td>1</td>\n",
              "      <td>1</td>\n",
              "      <td>[]</td>\n",
              "    </tr>\n",
              "    <tr>\n",
              "      <th>2</th>\n",
              "      <td>2</td>\n",
              "      <td>1</td>\n",
              "      <td>[]</td>\n",
              "    </tr>\n",
              "    <tr>\n",
              "      <th>3</th>\n",
              "      <td>3</td>\n",
              "      <td>1</td>\n",
              "      <td>[300, 585, 717, 857, 1085, 1219, 1440, 1566, 1...</td>\n",
              "    </tr>\n",
              "    <tr>\n",
              "      <th>4</th>\n",
              "      <td>4</td>\n",
              "      <td>1</td>\n",
              "      <td>[]</td>\n",
              "    </tr>\n",
              "    <tr>\n",
              "      <th>...</th>\n",
              "      <td>...</td>\n",
              "      <td>...</td>\n",
              "      <td>...</td>\n",
              "    </tr>\n",
              "    <tr>\n",
              "      <th>261</th>\n",
              "      <td>304</td>\n",
              "      <td>1</td>\n",
              "      <td>[10454, 11955, 36231, 36389, 36997, 39481, 397...</td>\n",
              "    </tr>\n",
              "    <tr>\n",
              "      <th>262</th>\n",
              "      <td>305</td>\n",
              "      <td>1</td>\n",
              "      <td>[5080, 9415, 10327, 10335, 10849, 11003, 13077...</td>\n",
              "    </tr>\n",
              "    <tr>\n",
              "      <th>263</th>\n",
              "      <td>306</td>\n",
              "      <td>1</td>\n",
              "      <td>[435, 1096, 2462, 2962, 3835, 5657, 8189, 8596...</td>\n",
              "    </tr>\n",
              "    <tr>\n",
              "      <th>264</th>\n",
              "      <td>307</td>\n",
              "      <td>1</td>\n",
              "      <td>[521439, 1168810, 2437865, 3048073, 3048215, 3...</td>\n",
              "    </tr>\n",
              "    <tr>\n",
              "      <th>265</th>\n",
              "      <td>308</td>\n",
              "      <td>1</td>\n",
              "      <td>[729, 1825, 23838, 42157, 47452, 61027, 61191,...</td>\n",
              "    </tr>\n",
              "  </tbody>\n",
              "</table>\n",
              "<p>266 rows × 3 columns</p>\n",
              "</div>"
            ],
            "text/plain": [
              "     channel_id  file_num                                             spikes\n",
              "0             0         1                                                 []\n",
              "1             1         1                                                 []\n",
              "2             2         1                                                 []\n",
              "3             3         1  [300, 585, 717, 857, 1085, 1219, 1440, 1566, 1...\n",
              "4             4         1                                                 []\n",
              "..          ...       ...                                                ...\n",
              "261         304         1  [10454, 11955, 36231, 36389, 36997, 39481, 397...\n",
              "262         305         1  [5080, 9415, 10327, 10335, 10849, 11003, 13077...\n",
              "263         306         1  [435, 1096, 2462, 2962, 3835, 5657, 8189, 8596...\n",
              "264         307         1  [521439, 1168810, 2437865, 3048073, 3048215, 3...\n",
              "265         308         1  [729, 1825, 23838, 42157, 47452, 61027, 61191,...\n",
              "\n",
              "[266 rows x 3 columns]"
            ]
          },
          "metadata": {
            "tags": []
          },
          "execution_count": 11
        }
      ]
    },
    {
      "cell_type": "markdown",
      "metadata": {
        "id": "ijvMsj7vDStr"
      },
      "source": [
        "## Raster"
      ]
    },
    {
      "cell_type": "code",
      "metadata": {
        "colab": {
          "base_uri": "https://localhost:8080/",
          "height": 279
        },
        "id": "p286BFq2JwPr",
        "outputId": "c264adc1-d3de-4981-8adc-9e742c17230b"
      },
      "source": [
        "plot_raster(audioevt_onset, neural_properties_list, 0, 0, neural_full_window, channels_of_interest=neural_properties_list[0]['channel_id'])"
      ],
      "execution_count": 12,
      "outputs": [
        {
          "output_type": "display_data",
          "data": {
            "image/png": "[encoded data removed]",
            "text/plain": [
              "<Figure size 432x288 with 1 Axes>"
            ]
          },
          "metadata": {
            "tags": [],
            "needs_background": "light"
          }
        }
      ]
    },
    {
      "cell_type": "markdown",
      "metadata": {
        "id": "Zj5Mj9xYZfkf"
      },
      "source": [
        "# compute continuity"
      ]
    },
    {
      "cell_type": "code",
      "metadata": {
        "id": "aFRg_90NZTd2"
      },
      "source": [
        "o = compute_continuity.continuity_computation(neural_properties_list, spec_files, audioevt_properties, \n",
        "                                              channels_of_interest, neural_full_window, spectral_full_window, \n",
        "                                              syllable_path_pairs=compute_continuity.syllable_path_pairs)"
      ],
      "execution_count": null,
      "outputs": []
    },
    {
      "cell_type": "code",
      "metadata": {
        "id": "ZeoGcpGEC3U6"
      },
      "source": [
        "o.to_csv(OUTPUTDIR+'20210512/naive_knn.csv')"
      ],
      "execution_count": null,
      "outputs": []
    },
    {
      "cell_type": "code",
      "metadata": {
        "colab": {
          "base_uri": "https://localhost:8080/",
          "height": 1000
        },
        "id": "M2zH8TF9IMeR",
        "outputId": "e2674216-cf30-41a9-b00f-9a467a7bb876"
      },
      "source": [
        "o"
      ],
      "execution_count": null,
      "outputs": [
        {
          "output_type": "execute_result",
          "data": {
            "text/html": [
              "<div>\n",
              "<style scoped>\n",
              "    .dataframe tbody tr th:only-of-type {\n",
              "        vertical-align: middle;\n",
              "    }\n",
              "\n",
              "    .dataframe tbody tr th {\n",
              "        vertical-align: top;\n",
              "    }\n",
              "\n",
              "    .dataframe thead th {\n",
              "        text-align: right;\n",
              "    }\n",
              "</style>\n",
              "<table border=\"1\" class=\"dataframe\">\n",
              "  <thead>\n",
              "    <tr style=\"text-align: right;\">\n",
              "      <th></th>\n",
              "      <th>evt_id</th>\n",
              "      <th>syllable_start</th>\n",
              "      <th>duration</th>\n",
              "      <th>file_num</th>\n",
              "      <th>NNN_id</th>\n",
              "      <th>NNN_dist</th>\n",
              "      <th>NNN_avg</th>\n",
              "      <th>NSN_id</th>\n",
              "      <th>NSN_dist</th>\n",
              "      <th>NSN_avg</th>\n",
              "      <th>CSS_dist</th>\n",
              "      <th>CSS_avg</th>\n",
              "      <th>CNS_dist</th>\n",
              "      <th>CNS_avg</th>\n",
              "      <th>CSS_Rmins</th>\n",
              "      <th>RSS_Ravgs</th>\n",
              "      <th>CNS_Rmins</th>\n",
              "      <th>RNS_Ravgs</th>\n",
              "    </tr>\n",
              "  </thead>\n",
              "  <tbody>\n",
              "    <tr>\n",
              "      <th>0</th>\n",
              "      <td>0</td>\n",
              "      <td>2347741</td>\n",
              "      <td>7775</td>\n",
              "      <td>1</td>\n",
              "      <td>[355, 490, 528, 378, 503, 33, 507, 47, 214, 440]</td>\n",
              "      <td>[6.556317414491358, 6.566594930655184, 8.21557...</td>\n",
              "      <td>8.624476</td>\n",
              "      <td>[367, 4, 230, 85, 92, 217, 13, 84, 215, 15]</td>\n",
              "      <td>[78.98785356553152, 79.7492777126071, 79.77892...</td>\n",
              "      <td>80.007885</td>\n",
              "      <td>[91.45137525502845, 103.49351581093535, 87.787...</td>\n",
              "      <td>92.450685</td>\n",
              "      <td>[28.978981520665805, 13.055037462139339, 15.55...</td>\n",
              "      <td>31.997198</td>\n",
              "      <td>1.155520</td>\n",
              "      <td>1.144978</td>\n",
              "      <td>3.710045</td>\n",
              "      <td>3.759746</td>\n",
              "    </tr>\n",
              "    <tr>\n",
              "      <th>1</th>\n",
              "      <td>1</td>\n",
              "      <td>2356481</td>\n",
              "      <td>7637</td>\n",
              "      <td>1</td>\n",
              "      <td>[416, 198, 199, 157, 237, 335, 250, 49, 339, 42]</td>\n",
              "      <td>[5.375316990701615, 7.193411162641926, 7.34344...</td>\n",
              "      <td>8.281985</td>\n",
              "      <td>[14, 6, 30, 147, 18, 5, 155, 3, 50, 214]</td>\n",
              "      <td>[74.56800857621246, 76.78669793155676, 77.5869...</td>\n",
              "      <td>77.964762</td>\n",
              "      <td>[98.48956251716889, 88.11439217298286, 84.1694...</td>\n",
              "      <td>87.441600</td>\n",
              "      <td>[35.028859766943775, 31.629014486839424, 41.48...</td>\n",
              "      <td>25.574125</td>\n",
              "      <td>1.121553</td>\n",
              "      <td>1.144429</td>\n",
              "      <td>3.087922</td>\n",
              "      <td>3.666616</td>\n",
              "    </tr>\n",
              "    <tr>\n",
              "      <th>2</th>\n",
              "      <td>2</td>\n",
              "      <td>2365884</td>\n",
              "      <td>7613</td>\n",
              "      <td>1</td>\n",
              "      <td>[30, 452, 533, 181, 534, 320, 275, 332, 440, 381]</td>\n",
              "      <td>[6.013492141939303, 7.1181507571603335, 7.1598...</td>\n",
              "      <td>8.261903</td>\n",
              "      <td>[1, 3, 6, 449, 232, 214, 14, 205, 30, 73]</td>\n",
              "      <td>[79.26729417948155, 79.46815225613958, 79.5354...</td>\n",
              "      <td>80.005780</td>\n",
              "      <td>[80.50423339775928, 81.68814110724142, 95.6857...</td>\n",
              "      <td>90.602529</td>\n",
              "      <td>[41.064422587091975, 16.483809088833066, 13.19...</td>\n",
              "      <td>20.266457</td>\n",
              "      <td>1.132450</td>\n",
              "      <td>1.154843</td>\n",
              "      <td>2.453001</td>\n",
              "      <td>4.273015</td>\n",
              "    </tr>\n",
              "    <tr>\n",
              "      <th>3</th>\n",
              "      <td>3</td>\n",
              "      <td>2378125</td>\n",
              "      <td>7557</td>\n",
              "      <td>1</td>\n",
              "      <td>[505, 146, 230, 235, 207, 401, 509, 366, 507, ...</td>\n",
              "      <td>[5.374712643678165, 7.331034482758627, 7.34770...</td>\n",
              "      <td>7.999749</td>\n",
              "      <td>[6, 14, 18, 1, 161, 159, 2, 48, 13, 216]</td>\n",
              "      <td>[76.69686174008213, 76.96691358442996, 77.6529...</td>\n",
              "      <td>78.790386</td>\n",
              "      <td>[90.43418276785988, 88.76267553749265, 82.2123...</td>\n",
              "      <td>87.704076</td>\n",
              "      <td>[11.827586206896552, 24.031140258091817, 29.99...</td>\n",
              "      <td>24.133240</td>\n",
              "      <td>1.113132</td>\n",
              "      <td>1.146179</td>\n",
              "      <td>3.016749</td>\n",
              "      <td>3.577530</td>\n",
              "    </tr>\n",
              "    <tr>\n",
              "      <th>4</th>\n",
              "      <td>4</td>\n",
              "      <td>2488812</td>\n",
              "      <td>7530</td>\n",
              "      <td>1</td>\n",
              "      <td>[528, 469, 337, 558, 275, 72, 362, 401, 507, 505]</td>\n",
              "      <td>[8.065229722064661, 8.43149210903874, 9.070229...</td>\n",
              "      <td>9.564305</td>\n",
              "      <td>[14, 18, 92, 235, 94, 230, 354, 356, 43, 231]</td>\n",
              "      <td>[74.89351229215498, 75.25025571901762, 75.5387...</td>\n",
              "      <td>76.501136</td>\n",
              "      <td>[90.17754678917177, 86.51510828162117, 79.4951...</td>\n",
              "      <td>85.681236</td>\n",
              "      <td>[24.697553493939836, 36.92666880616176, 34.732...</td>\n",
              "      <td>28.739211</td>\n",
              "      <td>1.120000</td>\n",
              "      <td>1.159074</td>\n",
              "      <td>3.004840</td>\n",
              "      <td>3.298377</td>\n",
              "    </tr>\n",
              "    <tr>\n",
              "      <th>...</th>\n",
              "      <td>...</td>\n",
              "      <td>...</td>\n",
              "      <td>...</td>\n",
              "      <td>...</td>\n",
              "      <td>...</td>\n",
              "      <td>...</td>\n",
              "      <td>...</td>\n",
              "      <td>...</td>\n",
              "      <td>...</td>\n",
              "      <td>...</td>\n",
              "      <td>...</td>\n",
              "      <td>...</td>\n",
              "      <td>...</td>\n",
              "      <td>...</td>\n",
              "      <td>...</td>\n",
              "      <td>...</td>\n",
              "      <td>...</td>\n",
              "      <td>...</td>\n",
              "    </tr>\n",
              "    <tr>\n",
              "      <th>573</th>\n",
              "      <td>573</td>\n",
              "      <td>875109</td>\n",
              "      <td>7588</td>\n",
              "      <td>11</td>\n",
              "      <td>[572, 575, 510, 544, 330, 481, 373, 123, 413, ...</td>\n",
              "      <td>[11.710900243309005, 11.79569321533924, 11.796...</td>\n",
              "      <td>13.065159</td>\n",
              "      <td>[574, 576, 575, 577, 572, 145, 138, 142, 3, 1]</td>\n",
              "      <td>[67.59392340896936, 72.10251406081017, 73.6489...</td>\n",
              "      <td>78.154693</td>\n",
              "      <td>[81.18198445594184, 73.64895873632, 90.2947682...</td>\n",
              "      <td>89.208397</td>\n",
              "      <td>[29.917715617715633, 38.87511811023624, 11.795...</td>\n",
              "      <td>33.796861</td>\n",
              "      <td>1.141434</td>\n",
              "      <td>1.188484</td>\n",
              "      <td>2.586793</td>\n",
              "      <td>3.630491</td>\n",
              "    </tr>\n",
              "    <tr>\n",
              "      <th>574</th>\n",
              "      <td>574</td>\n",
              "      <td>884463</td>\n",
              "      <td>7602</td>\n",
              "      <td>11</td>\n",
              "      <td>[139, 137, 132, 112, 115, 427, 346, 146, 379, ...</td>\n",
              "      <td>[9.70659556271066, 9.938669438669425, 10.46453...</td>\n",
              "      <td>11.302794</td>\n",
              "      <td>[573, 575, 576, 577, 1, 6, 3, 193, 572, 145]</td>\n",
              "      <td>[67.59392340896936, 67.93625374892684, 69.8676...</td>\n",
              "      <td>78.593152</td>\n",
              "      <td>[88.86119493121184, 101.73067747656503, 87.765...</td>\n",
              "      <td>93.017335</td>\n",
              "      <td>[29.917715617715633, 32.98917012191349, 17.387...</td>\n",
              "      <td>23.660730</td>\n",
              "      <td>1.183530</td>\n",
              "      <td>1.209447</td>\n",
              "      <td>2.093352</td>\n",
              "      <td>2.724228</td>\n",
              "    </tr>\n",
              "    <tr>\n",
              "      <th>575</th>\n",
              "      <td>575</td>\n",
              "      <td>896732</td>\n",
              "      <td>7452</td>\n",
              "      <td>11</td>\n",
              "      <td>[573, 123, 510, 481, 572, 373, 92, 383, 330, 332]</td>\n",
              "      <td>[11.79569321533924, 12.824882873503382, 15.521...</td>\n",
              "      <td>15.888193</td>\n",
              "      <td>[576, 577, 574, 573, 7, 145, 193, 142, 21, 135]</td>\n",
              "      <td>[64.44443100047101, 65.83409636350586, 67.9362...</td>\n",
              "      <td>78.070022</td>\n",
              "      <td>[73.64895873632, 96.47341900885496, 90.7795857...</td>\n",
              "      <td>90.812835</td>\n",
              "      <td>[40.99965159222355, 21.362983132894648, 32.989...</td>\n",
              "      <td>40.612304</td>\n",
              "      <td>1.163223</td>\n",
              "      <td>1.209544</td>\n",
              "      <td>2.556131</td>\n",
              "      <td>3.175902</td>\n",
              "    </tr>\n",
              "    <tr>\n",
              "      <th>576</th>\n",
              "      <td>576</td>\n",
              "      <td>909070</td>\n",
              "      <td>7501</td>\n",
              "      <td>11</td>\n",
              "      <td>[144, 537, 495, 139, 321, 126, 472, 138, 97, 163]</td>\n",
              "      <td>[8.461281743755531, 10.31319299373292, 11.1693...</td>\n",
              "      <td>11.952951</td>\n",
              "      <td>[575, 577, 574, 573, 7, 21, 142, 193, 1, 549]</td>\n",
              "      <td>[64.44443100047101, 64.96518938731631, 69.8676...</td>\n",
              "      <td>77.782238</td>\n",
              "      <td>[87.67764566436148, 90.8241258086328, 109.8730...</td>\n",
              "      <td>95.414671</td>\n",
              "      <td>[40.99965159222355, 23.358907059694477, 17.387...</td>\n",
              "      <td>28.832768</td>\n",
              "      <td>1.226690</td>\n",
              "      <td>1.213984</td>\n",
              "      <td>2.412188</td>\n",
              "      <td>2.684756</td>\n",
              "    </tr>\n",
              "    <tr>\n",
              "      <th>577</th>\n",
              "      <td>577</td>\n",
              "      <td>922039</td>\n",
              "      <td>7592</td>\n",
              "      <td>11</td>\n",
              "      <td>[487, 214, 490, 355, 137, 507, 0, 459, 165, 2]</td>\n",
              "      <td>[9.343304843304828, 9.580202742993446, 9.92396...</td>\n",
              "      <td>10.752791</td>\n",
              "      <td>[576, 575, 574, 573, 7, 193, 21, 525, 142, 145]</td>\n",
              "      <td>[64.96518938731631, 65.83409636350586, 70.3768...</td>\n",
              "      <td>78.955184</td>\n",
              "      <td>[99.99807391766974, 92.43017473621364, 104.974...</td>\n",
              "      <td>96.609035</td>\n",
              "      <td>[23.358907059694477, 21.362983132894648, 14.83...</td>\n",
              "      <td>25.796756</td>\n",
              "      <td>1.223593</td>\n",
              "      <td>1.202257</td>\n",
              "      <td>2.399075</td>\n",
              "      <td>3.284945</td>\n",
              "    </tr>\n",
              "  </tbody>\n",
              "</table>\n",
              "<p>578 rows × 18 columns</p>\n",
              "</div>"
            ],
            "text/plain": [
              "     evt_id  syllable_start  duration  ...  RSS_Ravgs CNS_Rmins RNS_Ravgs\n",
              "0         0         2347741      7775  ...   1.144978  3.710045  3.759746\n",
              "1         1         2356481      7637  ...   1.144429  3.087922  3.666616\n",
              "2         2         2365884      7613  ...   1.154843  2.453001  4.273015\n",
              "3         3         2378125      7557  ...   1.146179  3.016749  3.577530\n",
              "4         4         2488812      7530  ...   1.159074  3.004840  3.298377\n",
              "..      ...             ...       ...  ...        ...       ...       ...\n",
              "573     573          875109      7588  ...   1.188484  2.586793  3.630491\n",
              "574     574          884463      7602  ...   1.209447  2.093352  2.724228\n",
              "575     575          896732      7452  ...   1.209544  2.556131  3.175902\n",
              "576     576          909070      7501  ...   1.213984  2.412188  2.684756\n",
              "577     577          922039      7592  ...   1.202257  2.399075  3.284945\n",
              "\n",
              "[578 rows x 18 columns]"
            ]
          },
          "metadata": {
            "tags": []
          },
          "execution_count": 12
        }
      ]
    }
  ]
}